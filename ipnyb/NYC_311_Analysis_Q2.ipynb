{
 "cells": [
  {
   "cell_type": "code",
   "execution_count": 1,
   "metadata": {},
   "outputs": [
    {
     "data": {
      "text/html": [
       "<div>\n",
       "<style scoped>\n",
       "    .dataframe tbody tr th:only-of-type {\n",
       "        vertical-align: middle;\n",
       "    }\n",
       "\n",
       "    .dataframe tbody tr th {\n",
       "        vertical-align: top;\n",
       "    }\n",
       "\n",
       "    .dataframe thead th {\n",
       "        text-align: right;\n",
       "    }\n",
       "</style>\n",
       "<table border=\"1\" class=\"dataframe\">\n",
       "  <thead>\n",
       "    <tr style=\"text-align: right;\">\n",
       "      <th></th>\n",
       "      <th>borough</th>\n",
       "      <th>closed_date</th>\n",
       "      <th>complaint_type</th>\n",
       "      <th>created_date</th>\n",
       "      <th>incident_address</th>\n",
       "      <th>incident_zip</th>\n",
       "      <th>latitude</th>\n",
       "      <th>longitude</th>\n",
       "      <th>street_name</th>\n",
       "      <th>status</th>\n",
       "    </tr>\n",
       "  </thead>\n",
       "  <tbody>\n",
       "    <tr>\n",
       "      <th>0</th>\n",
       "      <td>BROOKLYN</td>\n",
       "      <td>2015-11-23T10:29:49.000</td>\n",
       "      <td>DOOR/WINDOW</td>\n",
       "      <td>2015-11-07T10:16:55.000</td>\n",
       "      <td>397 1 STREET</td>\n",
       "      <td>11215.0</td>\n",
       "      <td>40.672571</td>\n",
       "      <td>-73.979307</td>\n",
       "      <td>1 STREET</td>\n",
       "      <td>Closed</td>\n",
       "    </tr>\n",
       "    <tr>\n",
       "      <th>1</th>\n",
       "      <td>MANHATTAN</td>\n",
       "      <td>2016-01-31T11:50:51.000</td>\n",
       "      <td>DOOR/WINDOW</td>\n",
       "      <td>2015-11-07T18:50:53.000</td>\n",
       "      <td>3851 BROADWAY</td>\n",
       "      <td>10032.0</td>\n",
       "      <td>40.836272</td>\n",
       "      <td>-73.943274</td>\n",
       "      <td>BROADWAY</td>\n",
       "      <td>Closed</td>\n",
       "    </tr>\n",
       "    <tr>\n",
       "      <th>2</th>\n",
       "      <td>MANHATTAN</td>\n",
       "      <td>2015-11-20T09:11:31.000</td>\n",
       "      <td>DOOR/WINDOW</td>\n",
       "      <td>2015-11-07T23:09:57.000</td>\n",
       "      <td>3851 BROADWAY</td>\n",
       "      <td>10032.0</td>\n",
       "      <td>40.836272</td>\n",
       "      <td>-73.943274</td>\n",
       "      <td>BROADWAY</td>\n",
       "      <td>Closed</td>\n",
       "    </tr>\n",
       "    <tr>\n",
       "      <th>3</th>\n",
       "      <td>BROOKLYN</td>\n",
       "      <td>2015-11-16T12:25:46.000</td>\n",
       "      <td>DOOR/WINDOW</td>\n",
       "      <td>2015-11-07T14:05:52.000</td>\n",
       "      <td>1555 NOSTRAND AVENUE</td>\n",
       "      <td>11226.0</td>\n",
       "      <td>40.648298</td>\n",
       "      <td>-73.949293</td>\n",
       "      <td>NOSTRAND AVENUE</td>\n",
       "      <td>Closed</td>\n",
       "    </tr>\n",
       "    <tr>\n",
       "      <th>4</th>\n",
       "      <td>BRONX</td>\n",
       "      <td>2015-12-03T09:38:12.000</td>\n",
       "      <td>DOOR/WINDOW</td>\n",
       "      <td>2015-11-06T13:02:50.000</td>\n",
       "      <td>1808 MULFORD AVENUE</td>\n",
       "      <td>10461.0</td>\n",
       "      <td>40.847490</td>\n",
       "      <td>-73.835112</td>\n",
       "      <td>MULFORD AVENUE</td>\n",
       "      <td>Closed</td>\n",
       "    </tr>\n",
       "  </tbody>\n",
       "</table>\n",
       "</div>"
      ],
      "text/plain": [
       "     borough              closed_date complaint_type             created_date  \\\n",
       "0   BROOKLYN  2015-11-23T10:29:49.000    DOOR/WINDOW  2015-11-07T10:16:55.000   \n",
       "1  MANHATTAN  2016-01-31T11:50:51.000    DOOR/WINDOW  2015-11-07T18:50:53.000   \n",
       "2  MANHATTAN  2015-11-20T09:11:31.000    DOOR/WINDOW  2015-11-07T23:09:57.000   \n",
       "3   BROOKLYN  2015-11-16T12:25:46.000    DOOR/WINDOW  2015-11-07T14:05:52.000   \n",
       "4      BRONX  2015-12-03T09:38:12.000    DOOR/WINDOW  2015-11-06T13:02:50.000   \n",
       "\n",
       "       incident_address  incident_zip   latitude  longitude      street_name  \\\n",
       "0          397 1 STREET       11215.0  40.672571 -73.979307         1 STREET   \n",
       "1         3851 BROADWAY       10032.0  40.836272 -73.943274         BROADWAY   \n",
       "2         3851 BROADWAY       10032.0  40.836272 -73.943274         BROADWAY   \n",
       "3  1555 NOSTRAND AVENUE       11226.0  40.648298 -73.949293  NOSTRAND AVENUE   \n",
       "4   1808 MULFORD AVENUE       10461.0  40.847490 -73.835112   MULFORD AVENUE   \n",
       "\n",
       "   status  \n",
       "0  Closed  \n",
       "1  Closed  \n",
       "2  Closed  \n",
       "3  Closed  \n",
       "4  Closed  "
      ]
     },
     "execution_count": 1,
     "metadata": {},
     "output_type": "execute_result"
    }
   ],
   "source": [
    "import pandas as pd\n",
    "\n",
    "#lacal path of data from my computer\n",
    "body = r\"C:\\Users\\Suat\\Documents\\Programming\\Data Science Project\\data.csv\"\n",
    "\n",
    "df = pd.read_csv(body)\n",
    "df.head()\n",
    "\n"
   ]
  },
  {
   "cell_type": "markdown",
   "metadata": {},
   "source": [
    "All files are imported"
   ]
  },
  {
   "cell_type": "markdown",
   "metadata": {},
   "source": [
    "# Quick summary of Problem 1"
   ]
  },
  {
   "cell_type": "markdown",
   "metadata": {},
   "source": [
    "In Problem 1, we found the most occured incident type from 311 Dataset, let's find it again and show on the\n",
    "graph."
   ]
  },
  {
   "cell_type": "code",
   "execution_count": 2,
   "metadata": {},
   "outputs": [
    {
     "name": "stdout",
     "output_type": "stream",
     "text": [
      "<class 'pandas.core.frame.DataFrame'>\n",
      "RangeIndex: 5583182 entries, 0 to 5583181\n",
      "Data columns (total 10 columns):\n",
      "borough             object\n",
      "closed_date         object\n",
      "complaint_type      object\n",
      "created_date        object\n",
      "incident_address    object\n",
      "incident_zip        float64\n",
      "latitude            float64\n",
      "longitude           float64\n",
      "street_name         object\n",
      "status              object\n",
      "dtypes: float64(3), object(7)\n",
      "memory usage: 426.0+ MB\n"
     ]
    }
   ],
   "source": [
    "#what are the column names\n",
    "df.info()"
   ]
  },
  {
   "cell_type": "code",
   "execution_count": 3,
   "metadata": {},
   "outputs": [
    {
     "data": {
      "text/plain": [
       "array(['DOOR/WINDOW', 'SAFETY', 'HEAT/HOT WATER', 'PLUMBING', 'APPLIANCE',\n",
       "       'UNSANITARY CONDITION', 'WATER LEAK', 'ELECTRIC',\n",
       "       'FLOORING/STAIRS', 'ELEVATOR', 'GENERAL', 'PAINT/PLASTER',\n",
       "       'OUTSIDE BUILDING', 'HPD Literature Request', 'AGENCY', 'HEATING',\n",
       "       'NONCONST', 'GENERAL CONSTRUCTION', 'PAINT - PLASTER',\n",
       "       'CONSTRUCTION', 'STRUCTURAL', 'VACANT APARTMENT'], dtype=object)"
      ]
     },
     "execution_count": 3,
     "metadata": {},
     "output_type": "execute_result"
    }
   ],
   "source": [
    "#what are the complaint types\n",
    "df[\"complaint_type\"].unique()"
   ]
  },
  {
   "cell_type": "code",
   "execution_count": 4,
   "metadata": {},
   "outputs": [
    {
     "data": {
      "text/plain": [
       "HEAT/HOT WATER            1073045\n",
       "HEATING                    887869\n",
       "PLUMBING                   676178\n",
       "GENERAL CONSTRUCTION       500863\n",
       "UNSANITARY CONDITION       393855\n",
       "PAINT - PLASTER            361258\n",
       "PAINT/PLASTER              313754\n",
       "ELECTRIC                   290574\n",
       "NONCONST                   260890\n",
       "DOOR/WINDOW                181400\n",
       "WATER LEAK                 169553\n",
       "GENERAL                    133106\n",
       "FLOORING/STAIRS            123799\n",
       "APPLIANCE                  102478\n",
       "HPD Literature Request      52738\n",
       "SAFETY                      44550\n",
       "OUTSIDE BUILDING             6551\n",
       "ELEVATOR                     5610\n",
       "CONSTRUCTION                 5078\n",
       "STRUCTURAL                     16\n",
       "AGENCY                          9\n",
       "VACANT APARTMENT                8\n",
       "Name: complaint_type, dtype: int64"
      ]
     },
     "execution_count": 4,
     "metadata": {},
     "output_type": "execute_result"
    }
   ],
   "source": [
    "#complaint type counts\n",
    "df[\"complaint_type\"].value_counts()"
   ]
  },
  {
   "cell_type": "markdown",
   "metadata": {},
   "source": [
    "\"New York City Open Data data file web site indicated that the complaint type \"HEAT/HOT Water\" was renamed from \"HEATING\" after 2014. So we should combine these two types into one.\"\n",
    "I've learned this information from the example from Q1."
   ]
  },
  {
   "cell_type": "code",
   "execution_count": 5,
   "metadata": {},
   "outputs": [],
   "source": [
    "import numpy as np\n",
    "df['complaint_type'] = np.where(df['complaint_type']=='HEATING','HEAT/HOT WATER',df['complaint_type'])"
   ]
  },
  {
   "cell_type": "code",
   "execution_count": 6,
   "metadata": {},
   "outputs": [
    {
     "data": {
      "text/plain": [
       "HEAT/HOT WATER            1960914\n",
       "PLUMBING                   676178\n",
       "GENERAL CONSTRUCTION       500863\n",
       "UNSANITARY CONDITION       393855\n",
       "PAINT - PLASTER            361258\n",
       "PAINT/PLASTER              313754\n",
       "ELECTRIC                   290574\n",
       "NONCONST                   260890\n",
       "DOOR/WINDOW                181400\n",
       "WATER LEAK                 169553\n",
       "GENERAL                    133106\n",
       "FLOORING/STAIRS            123799\n",
       "APPLIANCE                  102478\n",
       "HPD Literature Request      52738\n",
       "SAFETY                      44550\n",
       "OUTSIDE BUILDING             6551\n",
       "ELEVATOR                     5610\n",
       "CONSTRUCTION                 5078\n",
       "STRUCTURAL                     16\n",
       "AGENCY                          9\n",
       "VACANT APARTMENT                8\n",
       "Name: complaint_type, dtype: int64"
      ]
     },
     "execution_count": 6,
     "metadata": {},
     "output_type": "execute_result"
    }
   ],
   "source": [
    "#new complaint type counts\n",
    "df[\"complaint_type\"].value_counts()"
   ]
  },
  {
   "cell_type": "code",
   "execution_count": 7,
   "metadata": {},
   "outputs": [
    {
     "data": {
      "text/plain": [
       "<Figure size 1000x600 with 1 Axes>"
      ]
     },
     "metadata": {},
     "output_type": "display_data"
    }
   ],
   "source": [
    "#let's see in a graph\n",
    "import matplotlib.pyplot as plt\n",
    "df[\"complaint_type\"].value_counts().plot(kind='bar', figsize=(10, 6))\n",
    "#\n",
    "plt.xlabel('Complaint_Type') # add to x-label to the plot\n",
    "plt.ylabel('Number occurance') # add y-label to the plot\n",
    "plt.title('Complaint Type Graph') # add title to the plot\n",
    "#\n",
    "plt.show()"
   ]
  },
  {
   "cell_type": "markdown",
   "metadata": {},
   "source": [
    "## Conclusion for Problem 1"
   ]
  },
  {
   "cell_type": "markdown",
   "metadata": {},
   "source": [
    "HEAT/HOT WATER problem has been occured most since 2010!"
   ]
  },
  {
   "cell_type": "markdown",
   "metadata": {},
   "source": [
    "#  PROBLEM 2 : What Areas Should the Agency Focus On?"
   ]
  },
  {
   "cell_type": "markdown",
   "metadata": {},
   "source": [
    "Should the Department of Housing Preservation and Development of New York City focus on any particular set of boroughs, ZIP codes, or street (where the complaints are severe) for the specific type of complaints you identified in response to Question 1?"
   ]
  },
  {
   "cell_type": "markdown",
   "metadata": {},
   "source": [
    "We identified the HEAT/HOT WATER problem as the most occured one itn the Question 1. So, lets start with making a new dataset contains borough, ZIP Code, street and complaint type."
   ]
  },
  {
   "cell_type": "code",
   "execution_count": 8,
   "metadata": {},
   "outputs": [],
   "source": [
    "Q2_df = df[[\"complaint_type\", \"borough\", \"street_name\", \"incident_zip\"]]"
   ]
  },
  {
   "cell_type": "code",
   "execution_count": 9,
   "metadata": {},
   "outputs": [
    {
     "data": {
      "text/html": [
       "<div>\n",
       "<style scoped>\n",
       "    .dataframe tbody tr th:only-of-type {\n",
       "        vertical-align: middle;\n",
       "    }\n",
       "\n",
       "    .dataframe tbody tr th {\n",
       "        vertical-align: top;\n",
       "    }\n",
       "\n",
       "    .dataframe thead th {\n",
       "        text-align: right;\n",
       "    }\n",
       "</style>\n",
       "<table border=\"1\" class=\"dataframe\">\n",
       "  <thead>\n",
       "    <tr style=\"text-align: right;\">\n",
       "      <th></th>\n",
       "      <th>complaint_type</th>\n",
       "      <th>borough</th>\n",
       "      <th>street_name</th>\n",
       "      <th>incident_zip</th>\n",
       "    </tr>\n",
       "  </thead>\n",
       "  <tbody>\n",
       "    <tr>\n",
       "      <th>0</th>\n",
       "      <td>DOOR/WINDOW</td>\n",
       "      <td>BROOKLYN</td>\n",
       "      <td>1 STREET</td>\n",
       "      <td>11215.0</td>\n",
       "    </tr>\n",
       "    <tr>\n",
       "      <th>1</th>\n",
       "      <td>DOOR/WINDOW</td>\n",
       "      <td>MANHATTAN</td>\n",
       "      <td>BROADWAY</td>\n",
       "      <td>10032.0</td>\n",
       "    </tr>\n",
       "    <tr>\n",
       "      <th>2</th>\n",
       "      <td>DOOR/WINDOW</td>\n",
       "      <td>MANHATTAN</td>\n",
       "      <td>BROADWAY</td>\n",
       "      <td>10032.0</td>\n",
       "    </tr>\n",
       "    <tr>\n",
       "      <th>3</th>\n",
       "      <td>DOOR/WINDOW</td>\n",
       "      <td>BROOKLYN</td>\n",
       "      <td>NOSTRAND AVENUE</td>\n",
       "      <td>11226.0</td>\n",
       "    </tr>\n",
       "    <tr>\n",
       "      <th>4</th>\n",
       "      <td>DOOR/WINDOW</td>\n",
       "      <td>BRONX</td>\n",
       "      <td>MULFORD AVENUE</td>\n",
       "      <td>10461.0</td>\n",
       "    </tr>\n",
       "  </tbody>\n",
       "</table>\n",
       "</div>"
      ],
      "text/plain": [
       "  complaint_type    borough      street_name  incident_zip\n",
       "0    DOOR/WINDOW   BROOKLYN         1 STREET       11215.0\n",
       "1    DOOR/WINDOW  MANHATTAN         BROADWAY       10032.0\n",
       "2    DOOR/WINDOW  MANHATTAN         BROADWAY       10032.0\n",
       "3    DOOR/WINDOW   BROOKLYN  NOSTRAND AVENUE       11226.0\n",
       "4    DOOR/WINDOW      BRONX   MULFORD AVENUE       10461.0"
      ]
     },
     "execution_count": 9,
     "metadata": {},
     "output_type": "execute_result"
    }
   ],
   "source": [
    "Q2_df.head()"
   ]
  },
  {
   "cell_type": "code",
   "execution_count": 10,
   "metadata": {},
   "outputs": [
    {
     "data": {
      "text/plain": [
       "complaint_type        0\n",
       "borough               0\n",
       "street_name       52739\n",
       "incident_zip      80945\n",
       "dtype: int64"
      ]
     },
     "execution_count": 10,
     "metadata": {},
     "output_type": "execute_result"
    }
   ],
   "source": [
    "##check if there are NaN variables\n",
    "Q2_df.isnull().sum()"
   ]
  },
  {
   "cell_type": "code",
   "execution_count": 11,
   "metadata": {},
   "outputs": [
    {
     "name": "stdout",
     "output_type": "stream",
     "text": [
      "<class 'pandas.core.frame.DataFrame'>\n",
      "RangeIndex: 5583182 entries, 0 to 5583181\n",
      "Data columns (total 4 columns):\n",
      "complaint_type    object\n",
      "borough           object\n",
      "street_name       object\n",
      "incident_zip      float64\n",
      "dtypes: float64(1), object(3)\n",
      "memory usage: 170.4+ MB\n"
     ]
    }
   ],
   "source": [
    "Q2_df.info()"
   ]
  },
  {
   "cell_type": "code",
   "execution_count": 12,
   "metadata": {},
   "outputs": [
    {
     "data": {
      "text/html": [
       "<div>\n",
       "<style scoped>\n",
       "    .dataframe tbody tr th:only-of-type {\n",
       "        vertical-align: middle;\n",
       "    }\n",
       "\n",
       "    .dataframe tbody tr th {\n",
       "        vertical-align: top;\n",
       "    }\n",
       "\n",
       "    .dataframe thead th {\n",
       "        text-align: right;\n",
       "    }\n",
       "</style>\n",
       "<table border=\"1\" class=\"dataframe\">\n",
       "  <thead>\n",
       "    <tr style=\"text-align: right;\">\n",
       "      <th></th>\n",
       "      <th>complaint_type</th>\n",
       "      <th>borough</th>\n",
       "      <th>street_name</th>\n",
       "      <th>incident_zip</th>\n",
       "    </tr>\n",
       "  </thead>\n",
       "  <tbody>\n",
       "    <tr>\n",
       "      <th>13</th>\n",
       "      <td>HEAT/HOT WATER</td>\n",
       "      <td>BRONX</td>\n",
       "      <td>TOWNSEND AVENUE</td>\n",
       "      <td>10452.0</td>\n",
       "    </tr>\n",
       "    <tr>\n",
       "      <th>14</th>\n",
       "      <td>HEAT/HOT WATER</td>\n",
       "      <td>BRONX</td>\n",
       "      <td>PROSPECT AVENUE</td>\n",
       "      <td>10459.0</td>\n",
       "    </tr>\n",
       "    <tr>\n",
       "      <th>165</th>\n",
       "      <td>HEAT/HOT WATER</td>\n",
       "      <td>BROOKLYN</td>\n",
       "      <td>GRAND AVENUE</td>\n",
       "      <td>11238.0</td>\n",
       "    </tr>\n",
       "    <tr>\n",
       "      <th>169</th>\n",
       "      <td>HEAT/HOT WATER</td>\n",
       "      <td>STATEN ISLAND</td>\n",
       "      <td>HOLLAND AVENUE</td>\n",
       "      <td>10303.0</td>\n",
       "    </tr>\n",
       "    <tr>\n",
       "      <th>170</th>\n",
       "      <td>HEAT/HOT WATER</td>\n",
       "      <td>BROOKLYN</td>\n",
       "      <td>LEE AVENUE</td>\n",
       "      <td>11206.0</td>\n",
       "    </tr>\n",
       "  </tbody>\n",
       "</table>\n",
       "</div>"
      ],
      "text/plain": [
       "     complaint_type        borough      street_name  incident_zip\n",
       "13   HEAT/HOT WATER          BRONX  TOWNSEND AVENUE       10452.0\n",
       "14   HEAT/HOT WATER          BRONX  PROSPECT AVENUE       10459.0\n",
       "165  HEAT/HOT WATER       BROOKLYN     GRAND AVENUE       11238.0\n",
       "169  HEAT/HOT WATER  STATEN ISLAND   HOLLAND AVENUE       10303.0\n",
       "170  HEAT/HOT WATER       BROOKLYN       LEE AVENUE       11206.0"
      ]
     },
     "execution_count": 12,
     "metadata": {},
     "output_type": "execute_result"
    }
   ],
   "source": [
    "##drop other complaint types other than Heat/Hot Water (most complaint type)\n",
    "Q2_df = Q2_df[Q2_df.complaint_type == \"HEAT/HOT WATER\"]\n",
    "Q2_df.head()"
   ]
  },
  {
   "cell_type": "markdown",
   "metadata": {},
   "source": [
    "Now we have a new dataframe Q2_df, which has only HEAT/HOT WATER incidents"
   ]
  },
  {
   "cell_type": "code",
   "execution_count": 13,
   "metadata": {},
   "outputs": [
    {
     "data": {
      "text/plain": [
       "BRONX            543108\n",
       "BROOKLYN         518825\n",
       "MANHATTAN        381347\n",
       "Unspecified      282917\n",
       "QUEENS           218027\n",
       "STATEN ISLAND     16690\n",
       "Name: borough, dtype: int64"
      ]
     },
     "execution_count": 13,
     "metadata": {},
     "output_type": "execute_result"
    }
   ],
   "source": [
    "#now, we can count for borough, street name and incident zip as follows;\n",
    "Q2_df[\"borough\"].value_counts()"
   ]
  },
  {
   "cell_type": "markdown",
   "metadata": {},
   "source": [
    "BRONX is the borough which has the most HEAT/HOT WATER incident with 543108 incidents and BROOKLYN is following with 518825 incidents. Wait a second, what is that Unspecified?"
   ]
  },
  {
   "cell_type": "code",
   "execution_count": 14,
   "metadata": {},
   "outputs": [
    {
     "data": {
      "text/html": [
       "<div>\n",
       "<style scoped>\n",
       "    .dataframe tbody tr th:only-of-type {\n",
       "        vertical-align: middle;\n",
       "    }\n",
       "\n",
       "    .dataframe tbody tr th {\n",
       "        vertical-align: top;\n",
       "    }\n",
       "\n",
       "    .dataframe thead th {\n",
       "        text-align: right;\n",
       "    }\n",
       "</style>\n",
       "<table border=\"1\" class=\"dataframe\">\n",
       "  <thead>\n",
       "    <tr style=\"text-align: right;\">\n",
       "      <th></th>\n",
       "      <th>complaint_type</th>\n",
       "      <th>borough</th>\n",
       "      <th>street_name</th>\n",
       "      <th>incident_zip</th>\n",
       "    </tr>\n",
       "  </thead>\n",
       "  <tbody>\n",
       "    <tr>\n",
       "      <th>273645</th>\n",
       "      <td>HEAT/HOT WATER</td>\n",
       "      <td>Unspecified</td>\n",
       "      <td>MACE AVENUE</td>\n",
       "      <td>10467.0</td>\n",
       "    </tr>\n",
       "    <tr>\n",
       "      <th>273795</th>\n",
       "      <td>HEAT/HOT WATER</td>\n",
       "      <td>Unspecified</td>\n",
       "      <td>44 STREET</td>\n",
       "      <td>11220.0</td>\n",
       "    </tr>\n",
       "    <tr>\n",
       "      <th>273798</th>\n",
       "      <td>HEAT/HOT WATER</td>\n",
       "      <td>Unspecified</td>\n",
       "      <td>LINCOLN PLACE</td>\n",
       "      <td>11213.0</td>\n",
       "    </tr>\n",
       "    <tr>\n",
       "      <th>273950</th>\n",
       "      <td>HEAT/HOT WATER</td>\n",
       "      <td>Unspecified</td>\n",
       "      <td>BRONX BOULEVARD</td>\n",
       "      <td>10466.0</td>\n",
       "    </tr>\n",
       "    <tr>\n",
       "      <th>273965</th>\n",
       "      <td>HEAT/HOT WATER</td>\n",
       "      <td>Unspecified</td>\n",
       "      <td>CASE STREET</td>\n",
       "      <td>11373.0</td>\n",
       "    </tr>\n",
       "  </tbody>\n",
       "</table>\n",
       "</div>"
      ],
      "text/plain": [
       "        complaint_type      borough      street_name  incident_zip\n",
       "273645  HEAT/HOT WATER  Unspecified      MACE AVENUE       10467.0\n",
       "273795  HEAT/HOT WATER  Unspecified        44 STREET       11220.0\n",
       "273798  HEAT/HOT WATER  Unspecified    LINCOLN PLACE       11213.0\n",
       "273950  HEAT/HOT WATER  Unspecified  BRONX BOULEVARD       10466.0\n",
       "273965  HEAT/HOT WATER  Unspecified      CASE STREET       11373.0"
      ]
     },
     "execution_count": 14,
     "metadata": {},
     "output_type": "execute_result"
    }
   ],
   "source": [
    "Q2_df.loc[df['borough'] == \"Unspecified\"].head()"
   ]
  },
  {
   "cell_type": "code",
   "execution_count": null,
   "metadata": {},
   "outputs": [],
   "source": []
  },
  {
   "cell_type": "markdown",
   "metadata": {},
   "source": [
    "These unspecfied values can be assigned the actual borough names because the street and zip is provided. However, I will do it right now, will be done later."
   ]
  },
  {
   "cell_type": "markdown",
   "metadata": {},
   "source": [
    "Let's see in a graph:"
   ]
  },
  {
   "cell_type": "code",
   "execution_count": 15,
   "metadata": {},
   "outputs": [
    {
     "data": {
      "image/png": "[encoded data removed]",
      "text/plain": [
       "<Figure size 720x432 with 1 Axes>"
      ]
     },
     "metadata": {},
     "output_type": "display_data"
    }
   ],
   "source": [
    "Q2_df[\"borough\"].value_counts().plot(kind='bar', figsize=(10, 6))\n",
    "#\n",
    "plt.xlabel('Borough Name') # add to x-label to the plot\n",
    "plt.ylabel('Number of occurance') # add y-label to the plot\n",
    "plt.title('HEAT/HOT WATER Incident Amount by Borough') # add title to the plot\n",
    "#\n",
    "plt.show()"
   ]
  },
  {
   "cell_type": "code",
   "execution_count": 16,
   "metadata": {},
   "outputs": [
    {
     "data": {
      "text/plain": [
       "GRAND CONCOURSE    34501\n",
       "BROADWAY           22728\n",
       "OCEAN AVENUE       17197\n",
       "ARDEN STREET       15677\n",
       "MORRIS AVENUE      15233\n",
       "Name: street_name, dtype: int64"
      ]
     },
     "execution_count": 16,
     "metadata": {},
     "output_type": "execute_result"
    }
   ],
   "source": [
    "#finding the street where HEAT/HOT Water problem occured mostly\n",
    "Q2_df[\"street_name\"].value_counts().head()\n"
   ]
  },
  {
   "cell_type": "markdown",
   "metadata": {},
   "source": [
    "GRAND CONCOURSE is the street which has the most HEAT/HOT WATER incident with 34501 incidents."
   ]
  },
  {
   "cell_type": "code",
   "execution_count": 17,
   "metadata": {},
   "outputs": [
    {
     "data": {
      "image/png": "[encoded data removed]",
      "text/plain": [
       "<Figure size 720x432 with 1 Axes>"
      ]
     },
     "metadata": {},
     "output_type": "display_data"
    }
   ],
   "source": [
    "Q2_df[\"street_name\"].value_counts().head(10).plot(kind='bar', figsize=(10, 6))\n",
    "#\n",
    "plt.xlabel('Street Name') # add to x-label to the plot\n",
    "plt.ylabel('Number of occurance') # add y-label to the plot\n",
    "plt.title('HEAT/HOT WATER Incident Amount by Street Name') # add title to the plot\n",
    "#\n",
    "plt.show()"
   ]
  },
  {
   "cell_type": "code",
   "execution_count": 18,
   "metadata": {},
   "outputs": [
    {
     "data": {
      "text/plain": [
       "11226.0    62064\n",
       "10467.0    60206\n",
       "10458.0    59697\n",
       "10453.0    52868\n",
       "10468.0    52778\n",
       "Name: incident_zip, dtype: int64"
      ]
     },
     "execution_count": 18,
     "metadata": {},
     "output_type": "execute_result"
    }
   ],
   "source": [
    "#finding the zip number where HEAT/HOT Water problem occured mostly\n",
    "Q2_df[\"incident_zip\"].value_counts().head()"
   ]
  },
  {
   "cell_type": "markdown",
   "metadata": {},
   "source": [
    "11226 is the Zip Code which has the most HEAT/HOT WATER incident with 62064 incidents"
   ]
  },
  {
   "cell_type": "code",
   "execution_count": 19,
   "metadata": {},
   "outputs": [
    {
     "data": {
      "image/png": "[encoded data removed]",
      "text/plain": [
       "<Figure size 720x432 with 1 Axes>"
      ]
     },
     "metadata": {},
     "output_type": "display_data"
    }
   ],
   "source": [
    "Q2_df[\"incident_zip\"].value_counts().head(10).plot(kind='bar', figsize=(10, 6))\n",
    "#\n",
    "plt.xlabel('Zip Code') # add to x-label to the plot\n",
    "plt.ylabel('Number of occurance') # add y-label to the plot\n",
    "plt.title('HEAT/HOT WATER Incident Amount by Zip Code') # add title to the plot\n",
    "#\n",
    "plt.show()"
   ]
  },
  {
   "cell_type": "markdown",
   "metadata": {},
   "source": [
    "We have found all answers for problem 2, however, let's continue for additional insights."
   ]
  },
  {
   "cell_type": "markdown",
   "metadata": {},
   "source": [
    "We know GRAND CONCOURSE is the street that HEAT/HOT WATER problem has occured most. But, where is GRAND CONCOURSE, in which borough or city? Let's find it and do the same thing for the ZIP code that we have just found above."
   ]
  },
  {
   "cell_type": "code",
   "execution_count": 20,
   "metadata": {},
   "outputs": [
    {
     "data": {
      "text/html": [
       "<div>\n",
       "<style scoped>\n",
       "    .dataframe tbody tr th:only-of-type {\n",
       "        vertical-align: middle;\n",
       "    }\n",
       "\n",
       "    .dataframe tbody tr th {\n",
       "        vertical-align: top;\n",
       "    }\n",
       "\n",
       "    .dataframe thead th {\n",
       "        text-align: right;\n",
       "    }\n",
       "</style>\n",
       "<table border=\"1\" class=\"dataframe\">\n",
       "  <thead>\n",
       "    <tr style=\"text-align: right;\">\n",
       "      <th></th>\n",
       "      <th>borough</th>\n",
       "      <th>closed_date</th>\n",
       "      <th>complaint_type</th>\n",
       "      <th>created_date</th>\n",
       "      <th>incident_address</th>\n",
       "      <th>incident_zip</th>\n",
       "      <th>latitude</th>\n",
       "      <th>longitude</th>\n",
       "      <th>street_name</th>\n",
       "      <th>status</th>\n",
       "    </tr>\n",
       "  </thead>\n",
       "  <tbody>\n",
       "    <tr>\n",
       "      <th>41</th>\n",
       "      <td>BRONX</td>\n",
       "      <td>2015-11-18T12:28:58.000</td>\n",
       "      <td>UNSANITARY CONDITION</td>\n",
       "      <td>2015-11-07T13:35:55.000</td>\n",
       "      <td>2760 GRAND CONCOURSE</td>\n",
       "      <td>10458.0</td>\n",
       "      <td>40.868369</td>\n",
       "      <td>-73.892614</td>\n",
       "      <td>GRAND CONCOURSE</td>\n",
       "      <td>Closed</td>\n",
       "    </tr>\n",
       "    <tr>\n",
       "      <th>83</th>\n",
       "      <td>BRONX</td>\n",
       "      <td>2015-11-23T10:45:37.000</td>\n",
       "      <td>UNSANITARY CONDITION</td>\n",
       "      <td>2015-11-07T03:03:12.000</td>\n",
       "      <td>1185 GRAND CONCOURSE</td>\n",
       "      <td>10452.0</td>\n",
       "      <td>40.833985</td>\n",
       "      <td>-73.918232</td>\n",
       "      <td>GRAND CONCOURSE</td>\n",
       "      <td>Closed</td>\n",
       "    </tr>\n",
       "    <tr>\n",
       "      <th>87</th>\n",
       "      <td>BRONX</td>\n",
       "      <td>2015-11-18T12:28:58.000</td>\n",
       "      <td>UNSANITARY CONDITION</td>\n",
       "      <td>2015-11-07T13:35:55.000</td>\n",
       "      <td>2760 GRAND CONCOURSE</td>\n",
       "      <td>10458.0</td>\n",
       "      <td>40.868369</td>\n",
       "      <td>-73.892614</td>\n",
       "      <td>GRAND CONCOURSE</td>\n",
       "      <td>Closed</td>\n",
       "    </tr>\n",
       "    <tr>\n",
       "      <th>192</th>\n",
       "      <td>BRONX</td>\n",
       "      <td>2015-11-08T12:52:50.000</td>\n",
       "      <td>HEAT/HOT WATER</td>\n",
       "      <td>2015-11-07T16:26:04.000</td>\n",
       "      <td>2351 GRAND CONCOURSE</td>\n",
       "      <td>10468.0</td>\n",
       "      <td>40.858889</td>\n",
       "      <td>-73.899100</td>\n",
       "      <td>GRAND CONCOURSE</td>\n",
       "      <td>Closed</td>\n",
       "    </tr>\n",
       "    <tr>\n",
       "      <th>205</th>\n",
       "      <td>BRONX</td>\n",
       "      <td>2015-11-11T01:11:15.000</td>\n",
       "      <td>HEAT/HOT WATER</td>\n",
       "      <td>2015-11-07T07:55:25.000</td>\n",
       "      <td>750 GRAND CONCOURSE</td>\n",
       "      <td>10451.0</td>\n",
       "      <td>40.823104</td>\n",
       "      <td>-73.924572</td>\n",
       "      <td>GRAND CONCOURSE</td>\n",
       "      <td>Closed</td>\n",
       "    </tr>\n",
       "  </tbody>\n",
       "</table>\n",
       "</div>"
      ],
      "text/plain": [
       "    borough              closed_date        complaint_type  \\\n",
       "41    BRONX  2015-11-18T12:28:58.000  UNSANITARY CONDITION   \n",
       "83    BRONX  2015-11-23T10:45:37.000  UNSANITARY CONDITION   \n",
       "87    BRONX  2015-11-18T12:28:58.000  UNSANITARY CONDITION   \n",
       "192   BRONX  2015-11-08T12:52:50.000        HEAT/HOT WATER   \n",
       "205   BRONX  2015-11-11T01:11:15.000        HEAT/HOT WATER   \n",
       "\n",
       "                created_date      incident_address  incident_zip   latitude  \\\n",
       "41   2015-11-07T13:35:55.000  2760 GRAND CONCOURSE       10458.0  40.868369   \n",
       "83   2015-11-07T03:03:12.000  1185 GRAND CONCOURSE       10452.0  40.833985   \n",
       "87   2015-11-07T13:35:55.000  2760 GRAND CONCOURSE       10458.0  40.868369   \n",
       "192  2015-11-07T16:26:04.000  2351 GRAND CONCOURSE       10468.0  40.858889   \n",
       "205  2015-11-07T07:55:25.000   750 GRAND CONCOURSE       10451.0  40.823104   \n",
       "\n",
       "     longitude      street_name  status  \n",
       "41  -73.892614  GRAND CONCOURSE  Closed  \n",
       "83  -73.918232  GRAND CONCOURSE  Closed  \n",
       "87  -73.892614  GRAND CONCOURSE  Closed  \n",
       "192 -73.899100  GRAND CONCOURSE  Closed  \n",
       "205 -73.924572  GRAND CONCOURSE  Closed  "
      ]
     },
     "execution_count": 20,
     "metadata": {},
     "output_type": "execute_result"
    }
   ],
   "source": [
    "df.loc[df['street_name'] == \"GRAND CONCOURSE\"].head()"
   ]
  },
  {
   "cell_type": "markdown",
   "metadata": {},
   "source": [
    "As we can clearly see, GRAND CONCOURSE is in BRONX"
   ]
  },
  {
   "cell_type": "code",
   "execution_count": 21,
   "metadata": {},
   "outputs": [
    {
     "data": {
      "text/html": [
       "<div>\n",
       "<style scoped>\n",
       "    .dataframe tbody tr th:only-of-type {\n",
       "        vertical-align: middle;\n",
       "    }\n",
       "\n",
       "    .dataframe tbody tr th {\n",
       "        vertical-align: top;\n",
       "    }\n",
       "\n",
       "    .dataframe thead th {\n",
       "        text-align: right;\n",
       "    }\n",
       "</style>\n",
       "<table border=\"1\" class=\"dataframe\">\n",
       "  <thead>\n",
       "    <tr style=\"text-align: right;\">\n",
       "      <th></th>\n",
       "      <th>borough</th>\n",
       "      <th>closed_date</th>\n",
       "      <th>complaint_type</th>\n",
       "      <th>created_date</th>\n",
       "      <th>incident_address</th>\n",
       "      <th>incident_zip</th>\n",
       "      <th>latitude</th>\n",
       "      <th>longitude</th>\n",
       "      <th>street_name</th>\n",
       "      <th>status</th>\n",
       "    </tr>\n",
       "  </thead>\n",
       "  <tbody>\n",
       "    <tr>\n",
       "      <th>3</th>\n",
       "      <td>BROOKLYN</td>\n",
       "      <td>2015-11-16T12:25:46.000</td>\n",
       "      <td>DOOR/WINDOW</td>\n",
       "      <td>2015-11-07T14:05:52.000</td>\n",
       "      <td>1555 NOSTRAND AVENUE</td>\n",
       "      <td>11226.0</td>\n",
       "      <td>40.648298</td>\n",
       "      <td>-73.949293</td>\n",
       "      <td>NOSTRAND AVENUE</td>\n",
       "      <td>Closed</td>\n",
       "    </tr>\n",
       "    <tr>\n",
       "      <th>44</th>\n",
       "      <td>BROOKLYN</td>\n",
       "      <td>2015-11-18T17:45:08.000</td>\n",
       "      <td>UNSANITARY CONDITION</td>\n",
       "      <td>2015-11-07T14:08:58.000</td>\n",
       "      <td>1555 NOSTRAND AVENUE</td>\n",
       "      <td>11226.0</td>\n",
       "      <td>40.648298</td>\n",
       "      <td>-73.949293</td>\n",
       "      <td>NOSTRAND AVENUE</td>\n",
       "      <td>Closed</td>\n",
       "    </tr>\n",
       "    <tr>\n",
       "      <th>71</th>\n",
       "      <td>BROOKLYN</td>\n",
       "      <td>2015-11-23T10:29:49.000</td>\n",
       "      <td>UNSANITARY CONDITION</td>\n",
       "      <td>2015-11-06T16:23:37.000</td>\n",
       "      <td>543 EAST   21 STREET</td>\n",
       "      <td>11226.0</td>\n",
       "      <td>40.640831</td>\n",
       "      <td>-73.958191</td>\n",
       "      <td>EAST   21 STREET</td>\n",
       "      <td>Closed</td>\n",
       "    </tr>\n",
       "    <tr>\n",
       "      <th>73</th>\n",
       "      <td>BROOKLYN</td>\n",
       "      <td>2015-11-13T12:13:41.000</td>\n",
       "      <td>UNSANITARY CONDITION</td>\n",
       "      <td>2015-11-07T21:56:46.000</td>\n",
       "      <td>2505 BEDFORD AVENUE</td>\n",
       "      <td>11226.0</td>\n",
       "      <td>40.642215</td>\n",
       "      <td>-73.954443</td>\n",
       "      <td>BEDFORD AVENUE</td>\n",
       "      <td>Closed</td>\n",
       "    </tr>\n",
       "    <tr>\n",
       "      <th>104</th>\n",
       "      <td>BROOKLYN</td>\n",
       "      <td>2015-12-31T16:28:53.000</td>\n",
       "      <td>WATER LEAK</td>\n",
       "      <td>2015-11-06T14:30:34.000</td>\n",
       "      <td>15 CROOKE AVENUE</td>\n",
       "      <td>11226.0</td>\n",
       "      <td>40.651979</td>\n",
       "      <td>-73.964661</td>\n",
       "      <td>CROOKE AVENUE</td>\n",
       "      <td>Closed</td>\n",
       "    </tr>\n",
       "  </tbody>\n",
       "</table>\n",
       "</div>"
      ],
      "text/plain": [
       "      borough              closed_date        complaint_type  \\\n",
       "3    BROOKLYN  2015-11-16T12:25:46.000           DOOR/WINDOW   \n",
       "44   BROOKLYN  2015-11-18T17:45:08.000  UNSANITARY CONDITION   \n",
       "71   BROOKLYN  2015-11-23T10:29:49.000  UNSANITARY CONDITION   \n",
       "73   BROOKLYN  2015-11-13T12:13:41.000  UNSANITARY CONDITION   \n",
       "104  BROOKLYN  2015-12-31T16:28:53.000            WATER LEAK   \n",
       "\n",
       "                created_date      incident_address  incident_zip   latitude  \\\n",
       "3    2015-11-07T14:05:52.000  1555 NOSTRAND AVENUE       11226.0  40.648298   \n",
       "44   2015-11-07T14:08:58.000  1555 NOSTRAND AVENUE       11226.0  40.648298   \n",
       "71   2015-11-06T16:23:37.000  543 EAST   21 STREET       11226.0  40.640831   \n",
       "73   2015-11-07T21:56:46.000   2505 BEDFORD AVENUE       11226.0  40.642215   \n",
       "104  2015-11-06T14:30:34.000      15 CROOKE AVENUE       11226.0  40.651979   \n",
       "\n",
       "     longitude       street_name  status  \n",
       "3   -73.949293   NOSTRAND AVENUE  Closed  \n",
       "44  -73.949293   NOSTRAND AVENUE  Closed  \n",
       "71  -73.958191  EAST   21 STREET  Closed  \n",
       "73  -73.954443    BEDFORD AVENUE  Closed  \n",
       "104 -73.964661     CROOKE AVENUE  Closed  "
      ]
     },
     "execution_count": 21,
     "metadata": {},
     "output_type": "execute_result"
    }
   ],
   "source": [
    "df.loc[df['incident_zip'] == 11226.0].head()"
   ]
  },
  {
   "cell_type": "markdown",
   "metadata": {},
   "source": [
    "Zip Code 11226 belongs to Brooklyn."
   ]
  },
  {
   "cell_type": "markdown",
   "metadata": {},
   "source": [
    "# CONCLUDING REMARKS"
   ]
  },
  {
   "cell_type": "markdown",
   "metadata": {},
   "source": [
    "1. BRONX is the borough which has the most HEAT/HOT WATER incident with 543108 incidents and BROOKLYN is following with 518825 incidents.\n",
    "2. GRAND CONCOURSE is the street which has the most HEAT/HOT WATER incident with 34501 incidents. GRAND CONCOURSE street is in BRONX\n",
    "3. 11226 is the Zip Code which has the most HEAT/HOT WATER incident with 62064 incidents and it belongs to BROOKLYN"
   ]
  },
  {
   "cell_type": "code",
   "execution_count": null,
   "metadata": {},
   "outputs": [],
   "source": []
  }
 ],
 "metadata": {
  "kernelspec": {
   "display_name": "Python 3",
   "language": "python",
   "name": "python3"
  },
  "language_info": {
   "codemirror_mode": {
    "name": "ipython",
    "version": 3
   },
   "file_extension": ".py",
   "mimetype": "text/x-python",
   "name": "python",
   "nbconvert_exporter": "python",
   "pygments_lexer": "ipython3",
   "version": "3.6.5"
  }
 },
 "nbformat": 4,
 "nbformat_minor": 2
}
