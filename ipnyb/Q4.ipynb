{
 "cells": [
  {
   "cell_type": "code",
   "execution_count": 1,
   "metadata": {},
   "outputs": [
    {
     "data": {
      "text/html": [
       "<div>\n",
       "<style scoped>\n",
       "    .dataframe tbody tr th:only-of-type {\n",
       "        vertical-align: middle;\n",
       "    }\n",
       "\n",
       "    .dataframe tbody tr th {\n",
       "        vertical-align: top;\n",
       "    }\n",
       "\n",
       "    .dataframe thead th {\n",
       "        text-align: right;\n",
       "    }\n",
       "</style>\n",
       "<table border=\"1\" class=\"dataframe\">\n",
       "  <thead>\n",
       "    <tr style=\"text-align: right;\">\n",
       "      <th></th>\n",
       "      <th>borough</th>\n",
       "      <th>closed_date</th>\n",
       "      <th>complaint_type</th>\n",
       "      <th>created_date</th>\n",
       "      <th>incident_address</th>\n",
       "      <th>incident_zip</th>\n",
       "      <th>latitude</th>\n",
       "      <th>longitude</th>\n",
       "      <th>street_name</th>\n",
       "      <th>status</th>\n",
       "    </tr>\n",
       "  </thead>\n",
       "  <tbody>\n",
       "    <tr>\n",
       "      <th>0</th>\n",
       "      <td>BROOKLYN</td>\n",
       "      <td>2015-11-23T10:29:49.000</td>\n",
       "      <td>DOOR/WINDOW</td>\n",
       "      <td>2015-11-07T10:16:55.000</td>\n",
       "      <td>397 1 STREET</td>\n",
       "      <td>11215.0</td>\n",
       "      <td>40.672571</td>\n",
       "      <td>-73.979307</td>\n",
       "      <td>1 STREET</td>\n",
       "      <td>Closed</td>\n",
       "    </tr>\n",
       "    <tr>\n",
       "      <th>1</th>\n",
       "      <td>MANHATTAN</td>\n",
       "      <td>2016-01-31T11:50:51.000</td>\n",
       "      <td>DOOR/WINDOW</td>\n",
       "      <td>2015-11-07T18:50:53.000</td>\n",
       "      <td>3851 BROADWAY</td>\n",
       "      <td>10032.0</td>\n",
       "      <td>40.836272</td>\n",
       "      <td>-73.943274</td>\n",
       "      <td>BROADWAY</td>\n",
       "      <td>Closed</td>\n",
       "    </tr>\n",
       "    <tr>\n",
       "      <th>2</th>\n",
       "      <td>MANHATTAN</td>\n",
       "      <td>2015-11-20T09:11:31.000</td>\n",
       "      <td>DOOR/WINDOW</td>\n",
       "      <td>2015-11-07T23:09:57.000</td>\n",
       "      <td>3851 BROADWAY</td>\n",
       "      <td>10032.0</td>\n",
       "      <td>40.836272</td>\n",
       "      <td>-73.943274</td>\n",
       "      <td>BROADWAY</td>\n",
       "      <td>Closed</td>\n",
       "    </tr>\n",
       "    <tr>\n",
       "      <th>3</th>\n",
       "      <td>BROOKLYN</td>\n",
       "      <td>2015-11-16T12:25:46.000</td>\n",
       "      <td>DOOR/WINDOW</td>\n",
       "      <td>2015-11-07T14:05:52.000</td>\n",
       "      <td>1555 NOSTRAND AVENUE</td>\n",
       "      <td>11226.0</td>\n",
       "      <td>40.648298</td>\n",
       "      <td>-73.949293</td>\n",
       "      <td>NOSTRAND AVENUE</td>\n",
       "      <td>Closed</td>\n",
       "    </tr>\n",
       "    <tr>\n",
       "      <th>4</th>\n",
       "      <td>BRONX</td>\n",
       "      <td>2015-12-03T09:38:12.000</td>\n",
       "      <td>DOOR/WINDOW</td>\n",
       "      <td>2015-11-06T13:02:50.000</td>\n",
       "      <td>1808 MULFORD AVENUE</td>\n",
       "      <td>10461.0</td>\n",
       "      <td>40.847490</td>\n",
       "      <td>-73.835112</td>\n",
       "      <td>MULFORD AVENUE</td>\n",
       "      <td>Closed</td>\n",
       "    </tr>\n",
       "  </tbody>\n",
       "</table>\n",
       "</div>"
      ],
      "text/plain": [
       "     borough              closed_date complaint_type             created_date  \\\n",
       "0   BROOKLYN  2015-11-23T10:29:49.000    DOOR/WINDOW  2015-11-07T10:16:55.000   \n",
       "1  MANHATTAN  2016-01-31T11:50:51.000    DOOR/WINDOW  2015-11-07T18:50:53.000   \n",
       "2  MANHATTAN  2015-11-20T09:11:31.000    DOOR/WINDOW  2015-11-07T23:09:57.000   \n",
       "3   BROOKLYN  2015-11-16T12:25:46.000    DOOR/WINDOW  2015-11-07T14:05:52.000   \n",
       "4      BRONX  2015-12-03T09:38:12.000    DOOR/WINDOW  2015-11-06T13:02:50.000   \n",
       "\n",
       "       incident_address  incident_zip   latitude  longitude      street_name  \\\n",
       "0          397 1 STREET       11215.0  40.672571 -73.979307         1 STREET   \n",
       "1         3851 BROADWAY       10032.0  40.836272 -73.943274         BROADWAY   \n",
       "2         3851 BROADWAY       10032.0  40.836272 -73.943274         BROADWAY   \n",
       "3  1555 NOSTRAND AVENUE       11226.0  40.648298 -73.949293  NOSTRAND AVENUE   \n",
       "4   1808 MULFORD AVENUE       10461.0  40.847490 -73.835112   MULFORD AVENUE   \n",
       "\n",
       "   status  \n",
       "0  Closed  \n",
       "1  Closed  \n",
       "2  Closed  \n",
       "3  Closed  \n",
       "4  Closed  "
      ]
     },
     "execution_count": 1,
     "metadata": {},
     "output_type": "execute_result"
    }
   ],
   "source": [
    "import pandas as pd\n",
    "\n",
    "#local path of data from my computer - not all columns are included.\n",
    "body = r\"C:\\Users\\Suat\\Documents\\Programming\\Data Science Project\\data.csv\"\n",
    "\n",
    "df = pd.read_csv(body)\n",
    "df.head()"
   ]
  },
  {
   "cell_type": "markdown",
   "metadata": {},
   "source": [
    "## Question 4: \n",
    "Can a predictive model be built for future prediction of the possibility of Complaints of the type that you identified in response to Question 1?"
   ]
  },
  {
   "cell_type": "code",
   "execution_count": 2,
   "metadata": {},
   "outputs": [],
   "source": [
    "import numpy as np\n",
    "#after 2014 HEATING became HEAT/HOT WATER, so we have to combine\n",
    "df['complaint_type'] = np.where(df['complaint_type']=='HEATING','HEAT/HOT WATER',df['complaint_type'])"
   ]
  },
  {
   "cell_type": "code",
   "execution_count": 3,
   "metadata": {},
   "outputs": [
    {
     "data": {
      "text/plain": [
       "HEAT/HOT WATER          1960914\n",
       "PLUMBING                 676178\n",
       "GENERAL CONSTRUCTION     500863\n",
       "UNSANITARY CONDITION     393855\n",
       "PAINT - PLASTER          361258\n",
       "Name: complaint_type, dtype: int64"
      ]
     },
     "execution_count": 3,
     "metadata": {},
     "output_type": "execute_result"
    }
   ],
   "source": [
    "df[\"complaint_type\"].value_counts().head()"
   ]
  },
  {
   "cell_type": "code",
   "execution_count": 4,
   "metadata": {},
   "outputs": [
    {
     "name": "stdout",
     "output_type": "stream",
     "text": [
      "<class 'pandas.core.frame.DataFrame'>\n",
      "RangeIndex: 5583182 entries, 0 to 5583181\n",
      "Data columns (total 10 columns):\n",
      "borough             object\n",
      "closed_date         object\n",
      "complaint_type      object\n",
      "created_date        object\n",
      "incident_address    object\n",
      "incident_zip        float64\n",
      "latitude            float64\n",
      "longitude           float64\n",
      "street_name         object\n",
      "status              object\n",
      "dtypes: float64(3), object(7)\n",
      "memory usage: 426.0+ MB\n"
     ]
    }
   ],
   "source": [
    "#Have a quick look\n",
    "df.info()"
   ]
  },
  {
   "cell_type": "markdown",
   "metadata": {},
   "source": [
    "Now, let's have only the complaint type that we are going to analyze."
   ]
  },
  {
   "cell_type": "code",
   "execution_count": 5,
   "metadata": {},
   "outputs": [],
   "source": [
    "df = df[df.complaint_type == \"HEAT/HOT WATER\"]"
   ]
  },
  {
   "cell_type": "code",
   "execution_count": 6,
   "metadata": {},
   "outputs": [
    {
     "data": {
      "text/plain": [
       "HEAT/HOT WATER    1960914\n",
       "Name: complaint_type, dtype: int64"
      ]
     },
     "execution_count": 6,
     "metadata": {},
     "output_type": "execute_result"
    }
   ],
   "source": [
    "df[\"complaint_type\"].value_counts()"
   ]
  },
  {
   "cell_type": "markdown",
   "metadata": {},
   "source": [
    "Let's see yearly changes of the HEAT/HOT WATER problem occurence"
   ]
  },
  {
   "cell_type": "code",
   "execution_count": 7,
   "metadata": {},
   "outputs": [
    {
     "data": {
      "text/plain": [
       "13     2015-11-06T07:06:37.000\n",
       "14     2015-11-06T06:43:48.000\n",
       "165    2015-11-07T15:41:28.000\n",
       "169    2015-11-06T17:57:24.000\n",
       "170    2015-11-06T11:46:20.000\n",
       "Name: created_date, dtype: object"
      ]
     },
     "execution_count": 7,
     "metadata": {},
     "output_type": "execute_result"
    }
   ],
   "source": [
    "df[\"created_date\"].head()"
   ]
  },
  {
   "cell_type": "code",
   "execution_count": 8,
   "metadata": {},
   "outputs": [],
   "source": [
    "#convert into datetime\n",
    "df['created_date'] = pd.to_datetime(df['created_date'])"
   ]
  },
  {
   "cell_type": "code",
   "execution_count": 9,
   "metadata": {},
   "outputs": [
    {
     "data": {
      "text/plain": [
       "13    2015-11-06 07:06:37\n",
       "14    2015-11-06 06:43:48\n",
       "165   2015-11-07 15:41:28\n",
       "169   2015-11-06 17:57:24\n",
       "170   2015-11-06 11:46:20\n",
       "Name: created_date, dtype: datetime64[ns]"
      ]
     },
     "execution_count": 9,
     "metadata": {},
     "output_type": "execute_result"
    }
   ],
   "source": [
    "df[\"created_date\"].head()"
   ]
  },
  {
   "cell_type": "code",
   "execution_count": 10,
   "metadata": {},
   "outputs": [],
   "source": [
    "#We also know that from previous problems that BRONX is the borough that has the most HEAT/HOT water problem\n",
    "df = df[df.borough == \"BRONX\"]"
   ]
  },
  {
   "cell_type": "code",
   "execution_count": 11,
   "metadata": {},
   "outputs": [],
   "source": [
    "#now let's see our graph\n",
    "import datetime as dt\n",
    "grp = df.groupby(df.created_date.dt.year)"
   ]
  },
  {
   "cell_type": "code",
   "execution_count": 12,
   "metadata": {},
   "outputs": [
    {
     "data": {
      "text/html": [
       "<div>\n",
       "<style scoped>\n",
       "    .dataframe tbody tr th:only-of-type {\n",
       "        vertical-align: middle;\n",
       "    }\n",
       "\n",
       "    .dataframe tbody tr th {\n",
       "        vertical-align: top;\n",
       "    }\n",
       "\n",
       "    .dataframe thead th {\n",
       "        text-align: right;\n",
       "    }\n",
       "</style>\n",
       "<table border=\"1\" class=\"dataframe\">\n",
       "  <thead>\n",
       "    <tr style=\"text-align: right;\">\n",
       "      <th></th>\n",
       "      <th>borough</th>\n",
       "      <th>closed_date</th>\n",
       "      <th>complaint_type</th>\n",
       "      <th>created_date</th>\n",
       "      <th>incident_address</th>\n",
       "      <th>incident_zip</th>\n",
       "      <th>latitude</th>\n",
       "      <th>longitude</th>\n",
       "      <th>street_name</th>\n",
       "      <th>status</th>\n",
       "    </tr>\n",
       "    <tr>\n",
       "      <th>created_date</th>\n",
       "      <th></th>\n",
       "      <th></th>\n",
       "      <th></th>\n",
       "      <th></th>\n",
       "      <th></th>\n",
       "      <th></th>\n",
       "      <th></th>\n",
       "      <th></th>\n",
       "      <th></th>\n",
       "      <th></th>\n",
       "    </tr>\n",
       "  </thead>\n",
       "  <tbody>\n",
       "    <tr>\n",
       "      <th>2010</th>\n",
       "      <td>33</td>\n",
       "      <td>6</td>\n",
       "      <td>33</td>\n",
       "      <td>33</td>\n",
       "      <td>33</td>\n",
       "      <td>32</td>\n",
       "      <td>32</td>\n",
       "      <td>32</td>\n",
       "      <td>33</td>\n",
       "      <td>33</td>\n",
       "    </tr>\n",
       "    <tr>\n",
       "      <th>2011</th>\n",
       "      <td>35825</td>\n",
       "      <td>35630</td>\n",
       "      <td>35825</td>\n",
       "      <td>35825</td>\n",
       "      <td>35824</td>\n",
       "      <td>35740</td>\n",
       "      <td>35740</td>\n",
       "      <td>35740</td>\n",
       "      <td>35824</td>\n",
       "      <td>35825</td>\n",
       "    </tr>\n",
       "    <tr>\n",
       "      <th>2012</th>\n",
       "      <td>56852</td>\n",
       "      <td>56642</td>\n",
       "      <td>56852</td>\n",
       "      <td>56852</td>\n",
       "      <td>56852</td>\n",
       "      <td>56617</td>\n",
       "      <td>56617</td>\n",
       "      <td>56617</td>\n",
       "      <td>56852</td>\n",
       "      <td>56852</td>\n",
       "    </tr>\n",
       "    <tr>\n",
       "      <th>2013</th>\n",
       "      <td>67655</td>\n",
       "      <td>67171</td>\n",
       "      <td>67655</td>\n",
       "      <td>67655</td>\n",
       "      <td>67655</td>\n",
       "      <td>63873</td>\n",
       "      <td>63873</td>\n",
       "      <td>63873</td>\n",
       "      <td>67655</td>\n",
       "      <td>67655</td>\n",
       "    </tr>\n",
       "    <tr>\n",
       "      <th>2014</th>\n",
       "      <td>79844</td>\n",
       "      <td>79508</td>\n",
       "      <td>79844</td>\n",
       "      <td>79844</td>\n",
       "      <td>79844</td>\n",
       "      <td>79844</td>\n",
       "      <td>79844</td>\n",
       "      <td>79844</td>\n",
       "      <td>79844</td>\n",
       "      <td>79844</td>\n",
       "    </tr>\n",
       "    <tr>\n",
       "      <th>2015</th>\n",
       "      <td>71865</td>\n",
       "      <td>71800</td>\n",
       "      <td>71865</td>\n",
       "      <td>71865</td>\n",
       "      <td>71865</td>\n",
       "      <td>71864</td>\n",
       "      <td>71864</td>\n",
       "      <td>71864</td>\n",
       "      <td>71865</td>\n",
       "      <td>71865</td>\n",
       "    </tr>\n",
       "    <tr>\n",
       "      <th>2016</th>\n",
       "      <td>74201</td>\n",
       "      <td>74106</td>\n",
       "      <td>74201</td>\n",
       "      <td>74201</td>\n",
       "      <td>74201</td>\n",
       "      <td>74197</td>\n",
       "      <td>74197</td>\n",
       "      <td>74197</td>\n",
       "      <td>74201</td>\n",
       "      <td>74201</td>\n",
       "    </tr>\n",
       "    <tr>\n",
       "      <th>2017</th>\n",
       "      <td>68718</td>\n",
       "      <td>68548</td>\n",
       "      <td>68718</td>\n",
       "      <td>68718</td>\n",
       "      <td>68718</td>\n",
       "      <td>68713</td>\n",
       "      <td>68713</td>\n",
       "      <td>68713</td>\n",
       "      <td>68718</td>\n",
       "      <td>68718</td>\n",
       "    </tr>\n",
       "    <tr>\n",
       "      <th>2018</th>\n",
       "      <td>71454</td>\n",
       "      <td>71368</td>\n",
       "      <td>71454</td>\n",
       "      <td>71454</td>\n",
       "      <td>71454</td>\n",
       "      <td>69616</td>\n",
       "      <td>69616</td>\n",
       "      <td>69616</td>\n",
       "      <td>71454</td>\n",
       "      <td>71454</td>\n",
       "    </tr>\n",
       "    <tr>\n",
       "      <th>2019</th>\n",
       "      <td>16661</td>\n",
       "      <td>16661</td>\n",
       "      <td>16661</td>\n",
       "      <td>16661</td>\n",
       "      <td>16661</td>\n",
       "      <td>16661</td>\n",
       "      <td>16661</td>\n",
       "      <td>16661</td>\n",
       "      <td>16661</td>\n",
       "      <td>16661</td>\n",
       "    </tr>\n",
       "  </tbody>\n",
       "</table>\n",
       "</div>"
      ],
      "text/plain": [
       "              borough  closed_date  complaint_type  created_date  \\\n",
       "created_date                                                       \n",
       "2010               33            6              33            33   \n",
       "2011            35825        35630           35825         35825   \n",
       "2012            56852        56642           56852         56852   \n",
       "2013            67655        67171           67655         67655   \n",
       "2014            79844        79508           79844         79844   \n",
       "2015            71865        71800           71865         71865   \n",
       "2016            74201        74106           74201         74201   \n",
       "2017            68718        68548           68718         68718   \n",
       "2018            71454        71368           71454         71454   \n",
       "2019            16661        16661           16661         16661   \n",
       "\n",
       "              incident_address  incident_zip  latitude  longitude  \\\n",
       "created_date                                                        \n",
       "2010                        33            32        32         32   \n",
       "2011                     35824         35740     35740      35740   \n",
       "2012                     56852         56617     56617      56617   \n",
       "2013                     67655         63873     63873      63873   \n",
       "2014                     79844         79844     79844      79844   \n",
       "2015                     71865         71864     71864      71864   \n",
       "2016                     74201         74197     74197      74197   \n",
       "2017                     68718         68713     68713      68713   \n",
       "2018                     71454         69616     69616      69616   \n",
       "2019                     16661         16661     16661      16661   \n",
       "\n",
       "              street_name  status  \n",
       "created_date                       \n",
       "2010                   33      33  \n",
       "2011                35824   35825  \n",
       "2012                56852   56852  \n",
       "2013                67655   67655  \n",
       "2014                79844   79844  \n",
       "2015                71865   71865  \n",
       "2016                74201   74201  \n",
       "2017                68718   68718  \n",
       "2018                71454   71454  \n",
       "2019                16661   16661  "
      ]
     },
     "execution_count": 12,
     "metadata": {},
     "output_type": "execute_result"
    }
   ],
   "source": [
    "grp.count()"
   ]
  },
  {
   "cell_type": "code",
   "execution_count": 13,
   "metadata": {},
   "outputs": [
    {
     "data": {
      "text/plain": [
       "Int64Index([2010, 2011, 2012, 2013, 2014, 2015, 2016, 2017, 2018, 2019], dtype='int64', name='created_date')"
      ]
     },
     "execution_count": 13,
     "metadata": {},
     "output_type": "execute_result"
    }
   ],
   "source": [
    "grp.count().index"
   ]
  },
  {
   "cell_type": "code",
   "execution_count": 14,
   "metadata": {},
   "outputs": [],
   "source": [
    "#let's see in a graph\n",
    "import matplotlib.pyplot as plt"
   ]
  },
  {
   "cell_type": "code",
   "execution_count": 15,
   "metadata": {},
   "outputs": [
    {
     "data": {
      "image/png": "[encoded data removed]",
      "text/plain": [
       "<Figure size 432x288 with 1 Axes>"
      ]
     },
     "metadata": {},
     "output_type": "display_data"
    }
   ],
   "source": [
    "plt.scatter(grp.count().index ,grp.count().complaint_type)\n",
    "plt.show()"
   ]
  },
  {
   "cell_type": "markdown",
   "metadata": {},
   "source": [
    "Now, we should ignore 2010 and 2019 data because they are partial, not for all year."
   ]
  },
  {
   "cell_type": "code",
   "execution_count": 16,
   "metadata": {},
   "outputs": [
    {
     "data": {
      "image/png": "[encoded data removed]",
      "text/plain": [
       "<Figure size 432x288 with 1 Axes>"
      ]
     },
     "metadata": {},
     "output_type": "display_data"
    }
   ],
   "source": [
    "plt.scatter(grp.count().index[1:-1] ,grp.count().complaint_type[1:-1])\n",
    "plt.show()"
   ]
  },
  {
   "cell_type": "markdown",
   "metadata": {},
   "source": [
    "Let's build a non-linear regression for predicting future occurences.\n",
    "This is an additional model. I want to make something just using the 311 dataset alone."
   ]
  },
  {
   "cell_type": "code",
   "execution_count": 17,
   "metadata": {},
   "outputs": [],
   "source": [
    "#Let's define X and Y\n",
    "X = grp.count().index[1:-1]\n",
    "y = grp.count().complaint_type[1:-1]"
   ]
  },
  {
   "cell_type": "code",
   "execution_count": 18,
   "metadata": {},
   "outputs": [
    {
     "data": {
      "text/plain": [
       "[[2011, 2012, 2013, 2014, 2015, 2016, 2017, 2018]]"
      ]
     },
     "execution_count": 18,
     "metadata": {},
     "output_type": "execute_result"
    }
   ],
   "source": [
    "X = [X.tolist()]\n",
    "X"
   ]
  },
  {
   "cell_type": "code",
   "execution_count": 19,
   "metadata": {},
   "outputs": [],
   "source": [
    "X = np.asarray(X)"
   ]
  },
  {
   "cell_type": "code",
   "execution_count": 20,
   "metadata": {},
   "outputs": [],
   "source": [
    "X = X.reshape(-1, 1)"
   ]
  },
  {
   "cell_type": "code",
   "execution_count": 21,
   "metadata": {},
   "outputs": [],
   "source": [
    "from sklearn.linear_model import LinearRegression \n",
    "lin = LinearRegression()"
   ]
  },
  {
   "cell_type": "code",
   "execution_count": 22,
   "metadata": {},
   "outputs": [
    {
     "data": {
      "text/plain": [
       "LinearRegression(copy_X=True, fit_intercept=True, n_jobs=1, normalize=False)"
      ]
     },
     "execution_count": 22,
     "metadata": {},
     "output_type": "execute_result"
    }
   ],
   "source": [
    "from sklearn.preprocessing import PolynomialFeatures \n",
    "  \n",
    "poly = PolynomialFeatures(degree = 3) \n",
    "X_poly = poly.fit_transform(X) \n",
    " \n",
    "lin.fit(X_poly, y) "
   ]
  },
  {
   "cell_type": "code",
   "execution_count": 23,
   "metadata": {},
   "outputs": [
    {
     "data": {
      "image/png": "[encoded data removed]",
      "text/plain": [
       "<Figure size 432x288 with 1 Axes>"
      ]
     },
     "metadata": {},
     "output_type": "display_data"
    }
   ],
   "source": [
    "# Visualising the Polynomial Regression results \n",
    "plt.scatter(X, y, color = 'blue') \n",
    "  \n",
    "plt.plot(X, lin.predict(X_poly), color = 'red') \n",
    "plt.title('Polynomial Regression') \n",
    "plt.xlabel('YEARS') \n",
    "plt.ylabel('Occurence') \n",
    "  \n",
    "plt.show()"
   ]
  },
  {
   "cell_type": "code",
   "execution_count": 24,
   "metadata": {},
   "outputs": [
    {
     "data": {
      "text/plain": [
       "array([76597.4453125])"
      ]
     },
     "execution_count": 24,
     "metadata": {},
     "output_type": "execute_result"
    }
   ],
   "source": [
    "#let's predict the 2019 value\n",
    "lin.predict(poly.fit_transform([[2019]]))"
   ]
  },
  {
   "cell_type": "markdown",
   "metadata": {},
   "source": [
    "We're going to see if it will be close to 76470 at te end of this year :)"
   ]
  },
  {
   "cell_type": "markdown",
   "metadata": {},
   "source": [
    "## MORE ANALYSIS - MAKING A MODEL\n",
    "\n",
    "Analysis based on yearly values is simple but can be useful. Now let's dive into more detailled analysis. I am going to recall dataframes from former questions where I merged two dataframes, 311 and bronx."
   ]
  },
  {
   "cell_type": "code",
   "execution_count": 25,
   "metadata": {},
   "outputs": [
    {
     "data": {
      "text/html": [
       "<div>\n",
       "<style scoped>\n",
       "    .dataframe tbody tr th:only-of-type {\n",
       "        vertical-align: middle;\n",
       "    }\n",
       "\n",
       "    .dataframe tbody tr th {\n",
       "        vertical-align: top;\n",
       "    }\n",
       "\n",
       "    .dataframe thead th {\n",
       "        text-align: right;\n",
       "    }\n",
       "</style>\n",
       "<table border=\"1\" class=\"dataframe\">\n",
       "  <thead>\n",
       "    <tr style=\"text-align: right;\">\n",
       "      <th></th>\n",
       "      <th>Unnamed: 0</th>\n",
       "      <th>complaint_amount</th>\n",
       "      <th>Address</th>\n",
       "      <th>BldgArea</th>\n",
       "      <th>BldgDepth</th>\n",
       "      <th>BuiltFAR</th>\n",
       "      <th>CommFAR</th>\n",
       "      <th>FacilFAR</th>\n",
       "      <th>Lot</th>\n",
       "      <th>LotArea</th>\n",
       "      <th>...</th>\n",
       "      <th>ResidFAR</th>\n",
       "      <th>RetailArea</th>\n",
       "      <th>YearBuilt</th>\n",
       "      <th>YearAlter1</th>\n",
       "      <th>ZipCode</th>\n",
       "      <th>YCoord</th>\n",
       "      <th>XCoord</th>\n",
       "      <th>HOT/HEAT WATER</th>\n",
       "      <th>complaint_range</th>\n",
       "      <th>Age</th>\n",
       "    </tr>\n",
       "  </thead>\n",
       "  <tbody>\n",
       "    <tr>\n",
       "      <th>0</th>\n",
       "      <td>1</td>\n",
       "      <td>0.0</td>\n",
       "      <td>126 BRUCKNER BOULEVARD</td>\n",
       "      <td>752</td>\n",
       "      <td>16.0</td>\n",
       "      <td>0.05</td>\n",
       "      <td>5.0</td>\n",
       "      <td>6.5</td>\n",
       "      <td>4</td>\n",
       "      <td>13770</td>\n",
       "      <td>...</td>\n",
       "      <td>6.02</td>\n",
       "      <td>0</td>\n",
       "      <td>1931</td>\n",
       "      <td>1994</td>\n",
       "      <td>10454.0</td>\n",
       "      <td>232156.0</td>\n",
       "      <td>1006076.0</td>\n",
       "      <td>False</td>\n",
       "      <td>0</td>\n",
       "      <td>88</td>\n",
       "    </tr>\n",
       "    <tr>\n",
       "      <th>1</th>\n",
       "      <td>2</td>\n",
       "      <td>0.0</td>\n",
       "      <td>138 BRUCKNER BOULEVARD</td>\n",
       "      <td>39375</td>\n",
       "      <td>200.0</td>\n",
       "      <td>1.13</td>\n",
       "      <td>5.0</td>\n",
       "      <td>6.5</td>\n",
       "      <td>10</td>\n",
       "      <td>35000</td>\n",
       "      <td>...</td>\n",
       "      <td>6.02</td>\n",
       "      <td>0</td>\n",
       "      <td>1931</td>\n",
       "      <td>0</td>\n",
       "      <td>10454.0</td>\n",
       "      <td>232036.0</td>\n",
       "      <td>1006187.0</td>\n",
       "      <td>False</td>\n",
       "      <td>0</td>\n",
       "      <td>88</td>\n",
       "    </tr>\n",
       "    <tr>\n",
       "      <th>2</th>\n",
       "      <td>3</td>\n",
       "      <td>2.0</td>\n",
       "      <td>144 BRUCKNER BOULEVARD</td>\n",
       "      <td>12500</td>\n",
       "      <td>85.0</td>\n",
       "      <td>5.00</td>\n",
       "      <td>5.0</td>\n",
       "      <td>6.5</td>\n",
       "      <td>17</td>\n",
       "      <td>2500</td>\n",
       "      <td>...</td>\n",
       "      <td>6.02</td>\n",
       "      <td>0</td>\n",
       "      <td>1931</td>\n",
       "      <td>2001</td>\n",
       "      <td>10454.0</td>\n",
       "      <td>232033.0</td>\n",
       "      <td>1006299.0</td>\n",
       "      <td>True</td>\n",
       "      <td>1</td>\n",
       "      <td>88</td>\n",
       "    </tr>\n",
       "    <tr>\n",
       "      <th>3</th>\n",
       "      <td>4</td>\n",
       "      <td>13.0</td>\n",
       "      <td>148 BRUCKNER BOULEVARD</td>\n",
       "      <td>8595</td>\n",
       "      <td>70.0</td>\n",
       "      <td>4.58</td>\n",
       "      <td>5.0</td>\n",
       "      <td>6.5</td>\n",
       "      <td>18</td>\n",
       "      <td>1875</td>\n",
       "      <td>...</td>\n",
       "      <td>6.02</td>\n",
       "      <td>1719</td>\n",
       "      <td>1920</td>\n",
       "      <td>2009</td>\n",
       "      <td>10454.0</td>\n",
       "      <td>232040.0</td>\n",
       "      <td>1006363.0</td>\n",
       "      <td>True</td>\n",
       "      <td>10</td>\n",
       "      <td>99</td>\n",
       "    </tr>\n",
       "    <tr>\n",
       "      <th>4</th>\n",
       "      <td>6</td>\n",
       "      <td>0.0</td>\n",
       "      <td>519 EAST 132 STREET</td>\n",
       "      <td>5316</td>\n",
       "      <td>100.0</td>\n",
       "      <td>0.61</td>\n",
       "      <td>5.0</td>\n",
       "      <td>6.5</td>\n",
       "      <td>34</td>\n",
       "      <td>8700</td>\n",
       "      <td>...</td>\n",
       "      <td>6.02</td>\n",
       "      <td>0</td>\n",
       "      <td>1931</td>\n",
       "      <td>0</td>\n",
       "      <td>10454.0</td>\n",
       "      <td>232055.0</td>\n",
       "      <td>1006046.0</td>\n",
       "      <td>False</td>\n",
       "      <td>0</td>\n",
       "      <td>88</td>\n",
       "    </tr>\n",
       "  </tbody>\n",
       "</table>\n",
       "<p>5 rows × 25 columns</p>\n",
       "</div>"
      ],
      "text/plain": [
       "   Unnamed: 0  complaint_amount                 Address  BldgArea  BldgDepth  \\\n",
       "0           1               0.0  126 BRUCKNER BOULEVARD       752       16.0   \n",
       "1           2               0.0  138 BRUCKNER BOULEVARD     39375      200.0   \n",
       "2           3               2.0  144 BRUCKNER BOULEVARD     12500       85.0   \n",
       "3           4              13.0  148 BRUCKNER BOULEVARD      8595       70.0   \n",
       "4           6               0.0     519 EAST 132 STREET      5316      100.0   \n",
       "\n",
       "   BuiltFAR  CommFAR  FacilFAR  Lot  LotArea ...   ResidFAR  RetailArea  \\\n",
       "0      0.05      5.0       6.5    4    13770 ...       6.02           0   \n",
       "1      1.13      5.0       6.5   10    35000 ...       6.02           0   \n",
       "2      5.00      5.0       6.5   17     2500 ...       6.02           0   \n",
       "3      4.58      5.0       6.5   18     1875 ...       6.02        1719   \n",
       "4      0.61      5.0       6.5   34     8700 ...       6.02           0   \n",
       "\n",
       "   YearBuilt  YearAlter1  ZipCode    YCoord     XCoord  HOT/HEAT WATER  \\\n",
       "0       1931        1994  10454.0  232156.0  1006076.0           False   \n",
       "1       1931           0  10454.0  232036.0  1006187.0           False   \n",
       "2       1931        2001  10454.0  232033.0  1006299.0            True   \n",
       "3       1920        2009  10454.0  232040.0  1006363.0            True   \n",
       "4       1931           0  10454.0  232055.0  1006046.0           False   \n",
       "\n",
       "   complaint_range  Age  \n",
       "0                0   88  \n",
       "1                0   88  \n",
       "2                1   88  \n",
       "3               10   99  \n",
       "4                0   88  \n",
       "\n",
       "[5 rows x 25 columns]"
      ]
     },
     "execution_count": 25,
     "metadata": {},
     "output_type": "execute_result"
    }
   ],
   "source": [
    "#local path of data from my computer - not all columns are included.\n",
    "body2 = r\"C:\\Users\\Suat\\Documents\\Programming\\Data Science Project\\last_df.csv\"\n",
    "\n",
    "last_df = pd.read_csv(body2)\n",
    "last_df.head()"
   ]
  },
  {
   "cell_type": "markdown",
   "metadata": {},
   "source": [
    "Notes on dataset \"last_df\"\n",
    "\n",
    "1. This dataset is merged dataset of 311 Servis Datas and PLUTO datas for BRONX\n",
    "2. Merging process has been done based on Address\n",
    "3. There is only HEAT/HOT WATER complaints and there are 3 cells for them.\n",
    "4. complaint_amount column shows how many complaints has occured\n",
    "5. HOT/HEAT WATER column if there is HEAT/HOT WATER problem occured in that Address or not. (yes should be HOT/HEAT WATER)\n",
    "6. complaint_range column has 4 ranges for complaint_amount. 0, 1-10(1), 10-100(10) and >100(100)"
   ]
  },
  {
   "cell_type": "markdown",
   "metadata": {},
   "source": [
    "## Important Notes:\n",
    "I will not apply algorithms again for finding most important features. It was done in the Q3 Jupyter file, so feel free to check if you want to learn about this process.\n",
    "\n",
    "So, I found following features are the most related with complaint amount.\n",
    "1. NumFloors\n",
    "2. ResArea\n",
    "3. BuiltFar\n",
    "4. BldgArea\n",
    "5. Age\n",
    "6. BldgDepth\n",
    "\n",
    "I will make a model based on those 6 features (again, most related features)\n",
    "\n",
    "So, how do we choose the model?\n",
    "In the question, it asked us to make a model predicting the amount. So we should use regression algorithm. I choose to build a Regression Decision Tree. Also, I can use Classification Decision Tree if I want to find if the problem will occur or not. Remember, there is a column in my dataset (HOT/HEAT WATER) contains True/False for this."
   ]
  },
  {
   "cell_type": "code",
   "execution_count": 26,
   "metadata": {},
   "outputs": [
    {
     "data": {
      "text/plain": [
       "False    0.801511\n",
       "True     0.198489\n",
       "Name: HOT/HEAT WATER, dtype: float64"
      ]
     },
     "execution_count": 26,
     "metadata": {},
     "output_type": "execute_result"
    }
   ],
   "source": [
    "#Let's see the percentage of occurence\n",
    "last_df[\"HOT/HEAT WATER\"].value_counts(True)"
   ]
  },
  {
   "cell_type": "markdown",
   "metadata": {},
   "source": [
    "We clearly see that only 19.2% of the total called for the HEAT/HOT WATER problem."
   ]
  },
  {
   "cell_type": "code",
   "execution_count": 27,
   "metadata": {},
   "outputs": [
    {
     "data": {
      "text/plain": [
       "Unnamed: 0          0\n",
       "complaint_amount    0\n",
       "Address             0\n",
       "BldgArea            0\n",
       "BldgDepth           0\n",
       "BuiltFAR            0\n",
       "CommFAR             0\n",
       "FacilFAR            0\n",
       "Lot                 0\n",
       "LotArea             0\n",
       "LotDepth            0\n",
       "NumBldgs            0\n",
       "NumFloors           0\n",
       "OfficeArea          0\n",
       "ResArea             0\n",
       "ResidFAR            0\n",
       "RetailArea          0\n",
       "YearBuilt           0\n",
       "YearAlter1          0\n",
       "ZipCode             0\n",
       "YCoord              0\n",
       "XCoord              0\n",
       "HOT/HEAT WATER      0\n",
       "complaint_range     0\n",
       "Age                 0\n",
       "dtype: int64"
      ]
     },
     "execution_count": 27,
     "metadata": {},
     "output_type": "execute_result"
    }
   ],
   "source": [
    "#Let's quickly look if there is any NaN variables\n",
    "last_df.isnull().sum()"
   ]
  },
  {
   "cell_type": "markdown",
   "metadata": {},
   "source": [
    "Good, there is no null."
   ]
  },
  {
   "cell_type": "markdown",
   "metadata": {},
   "source": [
    "complaint amount is continuous variable describing how many calls have been received from same address. let's look at NumFloor definition from the PLUTO document: \"In the tallest building on the tax lot, the number of full and partial stories starting from the ground floor.\". So, basically, how many floors that this address has."
   ]
  },
  {
   "cell_type": "code",
   "execution_count": 28,
   "metadata": {},
   "outputs": [
    {
     "data": {
      "text/plain": [
       "array([ 1.  ,  2.  ,  5.  ,  3.  ,  4.  ,  7.  , 16.  ,  6.  , 17.  ,\n",
       "       20.  , 12.  ,  0.  ,  8.  ,  1.5 , 13.  , 19.  , 22.  , 11.  ,\n",
       "       14.  ,  9.  ,  1.75, 10.  , 25.  , 18.  ,  2.5 ,  3.5 , 21.  ,\n",
       "        2.75, 23.  , 29.  , 15.  ,  5.5 ,  2.67,  3.75,  1.67, 44.  ,\n",
       "       30.  , 31.  ,  2.25, 42.  , 28.  ,  0.5 ,  1.25, 24.  , 33.  ,\n",
       "        1.33,  4.5 ])"
      ]
     },
     "execution_count": 28,
     "metadata": {},
     "output_type": "execute_result"
    }
   ],
   "source": [
    "#Check the values of NumFloors\n",
    "last_df[\"NumFloors\"].unique()"
   ]
  },
  {
   "cell_type": "code",
   "execution_count": 29,
   "metadata": {},
   "outputs": [
    {
     "data": {
      "text/plain": [
       "2.00     42104\n",
       "3.00     15177\n",
       "1.00      8869\n",
       "2.50      5072\n",
       "5.00      3232\n",
       "6.00      2160\n",
       "4.00      1694\n",
       "1.50      1530\n",
       "2.75      1163\n",
       "1.75       715\n",
       "1.67       341\n",
       "7.00       230\n",
       "0.00       176\n",
       "8.00       154\n",
       "9.00        77\n",
       "3.50        61\n",
       "12.00       48\n",
       "14.00       41\n",
       "10.00       41\n",
       "11.00       39\n",
       "13.00       37\n",
       "20.00       25\n",
       "16.00       24\n",
       "2.67        20\n",
       "3.75        18\n",
       "19.00       13\n",
       "21.00       12\n",
       "18.00       11\n",
       "15.00       11\n",
       "2.25         9\n",
       "22.00        7\n",
       "25.00        6\n",
       "30.00        5\n",
       "17.00        5\n",
       "33.00        2\n",
       "28.00        2\n",
       "23.00        2\n",
       "44.00        1\n",
       "29.00        1\n",
       "4.50         1\n",
       "1.33         1\n",
       "0.50         1\n",
       "31.00        1\n",
       "42.00        1\n",
       "24.00        1\n",
       "1.25         1\n",
       "5.50         1\n",
       "Name: NumFloors, dtype: int64"
      ]
     },
     "execution_count": 29,
     "metadata": {},
     "output_type": "execute_result"
    }
   ],
   "source": [
    "#are there too many zeros?\n",
    "last_df[\"NumFloors\"].value_counts()"
   ]
  },
  {
   "cell_type": "markdown",
   "metadata": {},
   "source": [
    "In the dataset file, there is an explanation: \"If the NUMBER OF FLOORS is zero and the NUMBER OF BUILDINGS is greater than zero, then NUMBER OF FLOORS is not available for the tax lot. If the NUMBER OF FLOORS is zero and the NUMBER OF BUILDINGS is zero, then NUMBER OF FLOORS is not applicable for the tax lot.\" Based on this, I've decided to drop zeros from the dataset"
   ]
  },
  {
   "cell_type": "code",
   "execution_count": 30,
   "metadata": {},
   "outputs": [
    {
     "data": {
      "text/html": [
       "<div>\n",
       "<style scoped>\n",
       "    .dataframe tbody tr th:only-of-type {\n",
       "        vertical-align: middle;\n",
       "    }\n",
       "\n",
       "    .dataframe tbody tr th {\n",
       "        vertical-align: top;\n",
       "    }\n",
       "\n",
       "    .dataframe thead th {\n",
       "        text-align: right;\n",
       "    }\n",
       "</style>\n",
       "<table border=\"1\" class=\"dataframe\">\n",
       "  <thead>\n",
       "    <tr style=\"text-align: right;\">\n",
       "      <th></th>\n",
       "      <th>Unnamed: 0</th>\n",
       "      <th>complaint_amount</th>\n",
       "      <th>Address</th>\n",
       "      <th>BldgArea</th>\n",
       "      <th>BldgDepth</th>\n",
       "      <th>BuiltFAR</th>\n",
       "      <th>CommFAR</th>\n",
       "      <th>FacilFAR</th>\n",
       "      <th>Lot</th>\n",
       "      <th>LotArea</th>\n",
       "      <th>...</th>\n",
       "      <th>ResidFAR</th>\n",
       "      <th>RetailArea</th>\n",
       "      <th>YearBuilt</th>\n",
       "      <th>YearAlter1</th>\n",
       "      <th>ZipCode</th>\n",
       "      <th>YCoord</th>\n",
       "      <th>XCoord</th>\n",
       "      <th>HOT/HEAT WATER</th>\n",
       "      <th>complaint_range</th>\n",
       "      <th>Age</th>\n",
       "    </tr>\n",
       "  </thead>\n",
       "  <tbody>\n",
       "    <tr>\n",
       "      <th>0</th>\n",
       "      <td>1</td>\n",
       "      <td>0.0</td>\n",
       "      <td>126 BRUCKNER BOULEVARD</td>\n",
       "      <td>752</td>\n",
       "      <td>16.0</td>\n",
       "      <td>0.05</td>\n",
       "      <td>5.0</td>\n",
       "      <td>6.5</td>\n",
       "      <td>4</td>\n",
       "      <td>13770</td>\n",
       "      <td>...</td>\n",
       "      <td>6.02</td>\n",
       "      <td>0</td>\n",
       "      <td>1931</td>\n",
       "      <td>1994</td>\n",
       "      <td>10454.0</td>\n",
       "      <td>232156.0</td>\n",
       "      <td>1006076.0</td>\n",
       "      <td>False</td>\n",
       "      <td>0</td>\n",
       "      <td>88</td>\n",
       "    </tr>\n",
       "    <tr>\n",
       "      <th>1</th>\n",
       "      <td>2</td>\n",
       "      <td>0.0</td>\n",
       "      <td>138 BRUCKNER BOULEVARD</td>\n",
       "      <td>39375</td>\n",
       "      <td>200.0</td>\n",
       "      <td>1.13</td>\n",
       "      <td>5.0</td>\n",
       "      <td>6.5</td>\n",
       "      <td>10</td>\n",
       "      <td>35000</td>\n",
       "      <td>...</td>\n",
       "      <td>6.02</td>\n",
       "      <td>0</td>\n",
       "      <td>1931</td>\n",
       "      <td>0</td>\n",
       "      <td>10454.0</td>\n",
       "      <td>232036.0</td>\n",
       "      <td>1006187.0</td>\n",
       "      <td>False</td>\n",
       "      <td>0</td>\n",
       "      <td>88</td>\n",
       "    </tr>\n",
       "    <tr>\n",
       "      <th>2</th>\n",
       "      <td>3</td>\n",
       "      <td>2.0</td>\n",
       "      <td>144 BRUCKNER BOULEVARD</td>\n",
       "      <td>12500</td>\n",
       "      <td>85.0</td>\n",
       "      <td>5.00</td>\n",
       "      <td>5.0</td>\n",
       "      <td>6.5</td>\n",
       "      <td>17</td>\n",
       "      <td>2500</td>\n",
       "      <td>...</td>\n",
       "      <td>6.02</td>\n",
       "      <td>0</td>\n",
       "      <td>1931</td>\n",
       "      <td>2001</td>\n",
       "      <td>10454.0</td>\n",
       "      <td>232033.0</td>\n",
       "      <td>1006299.0</td>\n",
       "      <td>True</td>\n",
       "      <td>1</td>\n",
       "      <td>88</td>\n",
       "    </tr>\n",
       "    <tr>\n",
       "      <th>3</th>\n",
       "      <td>4</td>\n",
       "      <td>13.0</td>\n",
       "      <td>148 BRUCKNER BOULEVARD</td>\n",
       "      <td>8595</td>\n",
       "      <td>70.0</td>\n",
       "      <td>4.58</td>\n",
       "      <td>5.0</td>\n",
       "      <td>6.5</td>\n",
       "      <td>18</td>\n",
       "      <td>1875</td>\n",
       "      <td>...</td>\n",
       "      <td>6.02</td>\n",
       "      <td>1719</td>\n",
       "      <td>1920</td>\n",
       "      <td>2009</td>\n",
       "      <td>10454.0</td>\n",
       "      <td>232040.0</td>\n",
       "      <td>1006363.0</td>\n",
       "      <td>True</td>\n",
       "      <td>10</td>\n",
       "      <td>99</td>\n",
       "    </tr>\n",
       "    <tr>\n",
       "      <th>4</th>\n",
       "      <td>6</td>\n",
       "      <td>0.0</td>\n",
       "      <td>519 EAST 132 STREET</td>\n",
       "      <td>5316</td>\n",
       "      <td>100.0</td>\n",
       "      <td>0.61</td>\n",
       "      <td>5.0</td>\n",
       "      <td>6.5</td>\n",
       "      <td>34</td>\n",
       "      <td>8700</td>\n",
       "      <td>...</td>\n",
       "      <td>6.02</td>\n",
       "      <td>0</td>\n",
       "      <td>1931</td>\n",
       "      <td>0</td>\n",
       "      <td>10454.0</td>\n",
       "      <td>232055.0</td>\n",
       "      <td>1006046.0</td>\n",
       "      <td>False</td>\n",
       "      <td>0</td>\n",
       "      <td>88</td>\n",
       "    </tr>\n",
       "  </tbody>\n",
       "</table>\n",
       "<p>5 rows × 25 columns</p>\n",
       "</div>"
      ],
      "text/plain": [
       "   Unnamed: 0  complaint_amount                 Address  BldgArea  BldgDepth  \\\n",
       "0           1               0.0  126 BRUCKNER BOULEVARD       752       16.0   \n",
       "1           2               0.0  138 BRUCKNER BOULEVARD     39375      200.0   \n",
       "2           3               2.0  144 BRUCKNER BOULEVARD     12500       85.0   \n",
       "3           4              13.0  148 BRUCKNER BOULEVARD      8595       70.0   \n",
       "4           6               0.0     519 EAST 132 STREET      5316      100.0   \n",
       "\n",
       "   BuiltFAR  CommFAR  FacilFAR  Lot  LotArea ...   ResidFAR  RetailArea  \\\n",
       "0      0.05      5.0       6.5    4    13770 ...       6.02           0   \n",
       "1      1.13      5.0       6.5   10    35000 ...       6.02           0   \n",
       "2      5.00      5.0       6.5   17     2500 ...       6.02           0   \n",
       "3      4.58      5.0       6.5   18     1875 ...       6.02        1719   \n",
       "4      0.61      5.0       6.5   34     8700 ...       6.02           0   \n",
       "\n",
       "   YearBuilt  YearAlter1  ZipCode    YCoord     XCoord  HOT/HEAT WATER  \\\n",
       "0       1931        1994  10454.0  232156.0  1006076.0           False   \n",
       "1       1931           0  10454.0  232036.0  1006187.0           False   \n",
       "2       1931        2001  10454.0  232033.0  1006299.0            True   \n",
       "3       1920        2009  10454.0  232040.0  1006363.0            True   \n",
       "4       1931           0  10454.0  232055.0  1006046.0           False   \n",
       "\n",
       "   complaint_range  Age  \n",
       "0                0   88  \n",
       "1                0   88  \n",
       "2                1   88  \n",
       "3               10   99  \n",
       "4                0   88  \n",
       "\n",
       "[5 rows x 25 columns]"
      ]
     },
     "execution_count": 30,
     "metadata": {},
     "output_type": "execute_result"
    }
   ],
   "source": [
    "last_df_2 = last_df[last_df.NumFloors != 0]\n",
    "last_df_2.head()"
   ]
  },
  {
   "cell_type": "markdown",
   "metadata": {},
   "source": [
    "One more note from the dataset about ResArea: \"A RESIDENTIAL FLOOR AREA of zero can mean it is either not available or not applicable.\" Let's drop zeros from residental Area"
   ]
  },
  {
   "cell_type": "code",
   "execution_count": 31,
   "metadata": {},
   "outputs": [],
   "source": [
    "last_df_2 = last_df_2[last_df_2.ResArea != 0]"
   ]
  },
  {
   "cell_type": "markdown",
   "metadata": {},
   "source": [
    "Now, let's make a database which only contains the features that we've selected."
   ]
  },
  {
   "cell_type": "code",
   "execution_count": 32,
   "metadata": {},
   "outputs": [],
   "source": [
    "last_df_3 = last_df_2[[\"complaint_amount\", \"NumFloors\", \"ResArea\", \"BuiltFAR\", \"BldgArea\", \"Age\", \"BldgDepth\"]]"
   ]
  },
  {
   "cell_type": "code",
   "execution_count": 33,
   "metadata": {},
   "outputs": [
    {
     "data": {
      "text/html": [
       "<div>\n",
       "<style scoped>\n",
       "    .dataframe tbody tr th:only-of-type {\n",
       "        vertical-align: middle;\n",
       "    }\n",
       "\n",
       "    .dataframe tbody tr th {\n",
       "        vertical-align: top;\n",
       "    }\n",
       "\n",
       "    .dataframe thead th {\n",
       "        text-align: right;\n",
       "    }\n",
       "</style>\n",
       "<table border=\"1\" class=\"dataframe\">\n",
       "  <thead>\n",
       "    <tr style=\"text-align: right;\">\n",
       "      <th></th>\n",
       "      <th>complaint_amount</th>\n",
       "      <th>NumFloors</th>\n",
       "      <th>ResArea</th>\n",
       "      <th>BuiltFAR</th>\n",
       "      <th>BldgArea</th>\n",
       "      <th>Age</th>\n",
       "      <th>BldgDepth</th>\n",
       "    </tr>\n",
       "  </thead>\n",
       "  <tbody>\n",
       "    <tr>\n",
       "      <th>2</th>\n",
       "      <td>2.0</td>\n",
       "      <td>5.0</td>\n",
       "      <td>12500</td>\n",
       "      <td>5.00</td>\n",
       "      <td>12500</td>\n",
       "      <td>88</td>\n",
       "      <td>85.0</td>\n",
       "    </tr>\n",
       "    <tr>\n",
       "      <th>3</th>\n",
       "      <td>13.0</td>\n",
       "      <td>5.0</td>\n",
       "      <td>6876</td>\n",
       "      <td>4.58</td>\n",
       "      <td>8595</td>\n",
       "      <td>99</td>\n",
       "      <td>70.0</td>\n",
       "    </tr>\n",
       "    <tr>\n",
       "      <th>16</th>\n",
       "      <td>0.0</td>\n",
       "      <td>4.0</td>\n",
       "      <td>6784</td>\n",
       "      <td>2.71</td>\n",
       "      <td>6784</td>\n",
       "      <td>99</td>\n",
       "      <td>75.0</td>\n",
       "    </tr>\n",
       "    <tr>\n",
       "      <th>19</th>\n",
       "      <td>92.0</td>\n",
       "      <td>5.0</td>\n",
       "      <td>9176</td>\n",
       "      <td>4.60</td>\n",
       "      <td>11500</td>\n",
       "      <td>94</td>\n",
       "      <td>96.0</td>\n",
       "    </tr>\n",
       "    <tr>\n",
       "      <th>25</th>\n",
       "      <td>0.0</td>\n",
       "      <td>16.0</td>\n",
       "      <td>1306230</td>\n",
       "      <td>6.39</td>\n",
       "      <td>1306230</td>\n",
       "      <td>63</td>\n",
       "      <td>48.0</td>\n",
       "    </tr>\n",
       "  </tbody>\n",
       "</table>\n",
       "</div>"
      ],
      "text/plain": [
       "    complaint_amount  NumFloors  ResArea  BuiltFAR  BldgArea  Age  BldgDepth\n",
       "2                2.0        5.0    12500      5.00     12500   88       85.0\n",
       "3               13.0        5.0     6876      4.58      8595   99       70.0\n",
       "16               0.0        4.0     6784      2.71      6784   99       75.0\n",
       "19              92.0        5.0     9176      4.60     11500   94       96.0\n",
       "25               0.0       16.0  1306230      6.39   1306230   63       48.0"
      ]
     },
     "execution_count": 33,
     "metadata": {},
     "output_type": "execute_result"
    }
   ],
   "source": [
    "last_df_3.head()"
   ]
  },
  {
   "cell_type": "markdown",
   "metadata": {},
   "source": [
    "Making train and test splits"
   ]
  },
  {
   "cell_type": "code",
   "execution_count": 34,
   "metadata": {},
   "outputs": [],
   "source": [
    "features = last_df_3.columns.tolist()\n",
    "response = 'complaint_amount'\n",
    "features.remove(response)\n",
    "\n",
    "X = last_df_3[features]\n",
    "y = last_df_3[response]"
   ]
  },
  {
   "cell_type": "code",
   "execution_count": 35,
   "metadata": {},
   "outputs": [],
   "source": [
    "from sklearn.model_selection import train_test_split"
   ]
  },
  {
   "cell_type": "code",
   "execution_count": 36,
   "metadata": {},
   "outputs": [],
   "source": [
    "#80% train, 20% test size\n",
    "X, X_test, y, y_test = train_test_split(X, y, test_size=0.2, random_state=32)"
   ]
  },
  {
   "cell_type": "markdown",
   "metadata": {},
   "source": [
    "Now we apply regression decision tree "
   ]
  },
  {
   "cell_type": "code",
   "execution_count": 37,
   "metadata": {},
   "outputs": [],
   "source": [
    "from sklearn.tree import DecisionTreeRegressor"
   ]
  },
  {
   "cell_type": "code",
   "execution_count": 38,
   "metadata": {},
   "outputs": [],
   "source": [
    "from sklearn.model_selection import cross_val_score, cross_val_predict\n",
    "from sklearn.metrics import accuracy_score, classification_report, confusion_matrix"
   ]
  },
  {
   "cell_type": "code",
   "execution_count": 39,
   "metadata": {},
   "outputs": [],
   "source": [
    "regressor = DecisionTreeRegressor(random_state = 32)"
   ]
  },
  {
   "cell_type": "code",
   "execution_count": 40,
   "metadata": {},
   "outputs": [
    {
     "data": {
      "text/plain": [
       "DecisionTreeRegressor(criterion='mse', max_depth=None, max_features=None,\n",
       "           max_leaf_nodes=None, min_impurity_decrease=0.0,\n",
       "           min_impurity_split=None, min_samples_leaf=1,\n",
       "           min_samples_split=2, min_weight_fraction_leaf=0.0,\n",
       "           presort=False, random_state=32, splitter='best')"
      ]
     },
     "execution_count": 40,
     "metadata": {},
     "output_type": "execute_result"
    }
   ],
   "source": [
    "regressor.fit(X, y)"
   ]
  },
  {
   "cell_type": "code",
   "execution_count": 41,
   "metadata": {},
   "outputs": [],
   "source": [
    "from sklearn.model_selection import KFold, cross_val_score, cross_val_predict"
   ]
  },
  {
   "cell_type": "code",
   "execution_count": 42,
   "metadata": {},
   "outputs": [
    {
     "data": {
      "text/plain": [
       "array([2.])"
      ]
     },
     "execution_count": 42,
     "metadata": {},
     "output_type": "execute_result"
    }
   ],
   "source": [
    "#don't know if it is from test or train data\n",
    "regressor.predict([[5.0, 12500, 5.0, 12500, 88, 85.0]])"
   ]
  },
  {
   "cell_type": "markdown",
   "metadata": {},
   "source": [
    "correct"
   ]
  },
  {
   "cell_type": "code",
   "execution_count": 43,
   "metadata": {},
   "outputs": [
    {
     "data": {
      "text/plain": [
       "array([13.])"
      ]
     },
     "execution_count": 43,
     "metadata": {},
     "output_type": "execute_result"
    }
   ],
   "source": [
    "#don't know if it is from test or train data\n",
    "regressor.predict([[5.0, 6876, 4.58, 8595, 99, 70.0]])"
   ]
  },
  {
   "cell_type": "markdown",
   "metadata": {},
   "source": [
    "correct"
   ]
  },
  {
   "cell_type": "code",
   "execution_count": 44,
   "metadata": {},
   "outputs": [
    {
     "data": {
      "text/plain": [
       "array([0.])"
      ]
     },
     "execution_count": 44,
     "metadata": {},
     "output_type": "execute_result"
    }
   ],
   "source": [
    "regressor.predict([[4.0, 6784, 2.71, 6784, 99, 75.0]])"
   ]
  },
  {
   "cell_type": "markdown",
   "metadata": {},
   "source": [
    "correct"
   ]
  },
  {
   "cell_type": "code",
   "execution_count": 45,
   "metadata": {
    "scrolled": true
   },
   "outputs": [
    {
     "data": {
      "text/plain": [
       "NumFloors        6.00\n",
       "ResArea      76158.00\n",
       "BuiltFAR         3.91\n",
       "BldgArea     76158.00\n",
       "Age             82.00\n",
       "BldgDepth      108.00\n",
       "Name: 18171, dtype: float64"
      ]
     },
     "execution_count": 45,
     "metadata": {},
     "output_type": "execute_result"
    }
   ],
   "source": [
    "X_test.loc[18171, :]"
   ]
  },
  {
   "cell_type": "code",
   "execution_count": 46,
   "metadata": {},
   "outputs": [],
   "source": [
    "y_test2 = y_test[y_test>100]"
   ]
  },
  {
   "cell_type": "code",
   "execution_count": 47,
   "metadata": {},
   "outputs": [
    {
     "data": {
      "text/plain": [
       "43647     138.0\n",
       "34742     188.0\n",
       "19844     176.0\n",
       "19008     116.0\n",
       "8289      147.0\n",
       "18171     506.0\n",
       "29285    5758.0\n",
       "19167     212.0\n",
       "58302     352.0\n",
       "67904     219.0\n",
       "8075      197.0\n",
       "2479      176.0\n",
       "12394     130.0\n",
       "58337     347.0\n",
       "8784      155.0\n",
       "34826     436.0\n",
       "36403     146.0\n",
       "10475     185.0\n",
       "38899     102.0\n",
       "10561     173.0\n",
       "43472     104.0\n",
       "3083      229.0\n",
       "5386      137.0\n",
       "18763     464.0\n",
       "5592      107.0\n",
       "21673     116.0\n",
       "14662     213.0\n",
       "19886     157.0\n",
       "19954     238.0\n",
       "21255     160.0\n",
       "          ...  \n",
       "19999     201.0\n",
       "3500      282.0\n",
       "18318     107.0\n",
       "3419      175.0\n",
       "18109     174.0\n",
       "43653     177.0\n",
       "13968     231.0\n",
       "11885     436.0\n",
       "19143     417.0\n",
       "80013     630.0\n",
       "20456    1560.0\n",
       "49186     233.0\n",
       "30148     137.0\n",
       "29382     104.0\n",
       "66241     169.0\n",
       "11106     101.0\n",
       "5051      113.0\n",
       "10755     201.0\n",
       "19634     147.0\n",
       "21294     155.0\n",
       "3503      343.0\n",
       "9819      136.0\n",
       "22913     304.0\n",
       "42031     143.0\n",
       "22168     167.0\n",
       "5429      107.0\n",
       "8777      114.0\n",
       "29349     160.0\n",
       "27764     119.0\n",
       "53279     114.0\n",
       "Name: complaint_amount, Length: 201, dtype: float64"
      ]
     },
     "execution_count": 47,
     "metadata": {},
     "output_type": "execute_result"
    }
   ],
   "source": [
    "y_test2"
   ]
  },
  {
   "cell_type": "code",
   "execution_count": 48,
   "metadata": {},
   "outputs": [
    {
     "data": {
      "text/plain": [
       "array([0.])"
      ]
     },
     "execution_count": 48,
     "metadata": {},
     "output_type": "execute_result"
    }
   ],
   "source": [
    "#from test data, result sholud be 0.\n",
    "regressor.predict([[2.0, 1260, 0.82, 1732, 74, 35.0]])"
   ]
  },
  {
   "cell_type": "code",
   "execution_count": 49,
   "metadata": {},
   "outputs": [
    {
     "data": {
      "text/plain": [
       "array([0.])"
      ]
     },
     "execution_count": 49,
     "metadata": {},
     "output_type": "execute_result"
    }
   ],
   "source": [
    "#from test data, result sholud be 4.\n",
    "regressor.predict([[3.00, 2868, 1.43, 2868, 24, 47.50]])"
   ]
  },
  {
   "cell_type": "code",
   "execution_count": 50,
   "metadata": {},
   "outputs": [
    {
     "data": {
      "text/plain": [
       "array([62.])"
      ]
     },
     "execution_count": 50,
     "metadata": {},
     "output_type": "execute_result"
    }
   ],
   "source": [
    "# from test data, should be 17\n",
    "regressor.predict([[\"5.00\",\"21500\",\"4.30\",\"21500\",\"99\",\"86.0\"]])"
   ]
  },
  {
   "cell_type": "code",
   "execution_count": 51,
   "metadata": {},
   "outputs": [
    {
     "data": {
      "text/plain": [
       "array([42.])"
      ]
     },
     "execution_count": 51,
     "metadata": {},
     "output_type": "execute_result"
    }
   ],
   "source": [
    "#from test data, should be 69\n",
    "regressor.predict([[\"6.00\",\"70900\",\"3.27\",\"70900\",\"93\",\"58.83\"]])"
   ]
  },
  {
   "cell_type": "code",
   "execution_count": 52,
   "metadata": {},
   "outputs": [
    {
     "data": {
      "text/plain": [
       "array([0.])"
      ]
     },
     "execution_count": 52,
     "metadata": {},
     "output_type": "execute_result"
    }
   ],
   "source": [
    "#should be 24\n",
    "regressor.predict([[\"2.00\",\"2100\",\"0.88\",\"2100\",\"99\",\"50.00\"]])"
   ]
  },
  {
   "cell_type": "code",
   "execution_count": 53,
   "metadata": {},
   "outputs": [
    {
     "data": {
      "text/plain": [
       "array([3.])"
      ]
     },
     "execution_count": 53,
     "metadata": {},
     "output_type": "execute_result"
    }
   ],
   "source": [
    "#sholud be 12\n",
    "regressor.predict([[\"3.00\",\"2650\",\"1.35\",\"2650\",\"59\",\"50.00\"]])"
   ]
  },
  {
   "cell_type": "code",
   "execution_count": 54,
   "metadata": {},
   "outputs": [
    {
     "data": {
      "text/plain": [
       "array([82.])"
      ]
     },
     "execution_count": 54,
     "metadata": {},
     "output_type": "execute_result"
    }
   ],
   "source": [
    "#sholud be 5758\n",
    "regressor.predict([[\"6.00\",\"61500.00\",\"4.99\",\"61500.00\",\"88.00\",\"87.00\"]])"
   ]
  },
  {
   "cell_type": "code",
   "execution_count": 55,
   "metadata": {},
   "outputs": [
    {
     "data": {
      "text/plain": [
       "array([3.])"
      ]
     },
     "execution_count": 55,
     "metadata": {},
     "output_type": "execute_result"
    }
   ],
   "source": [
    "#sholud be 506\n",
    "regressor.predict([[\"6.00\",\"76158.00\",\"3.91\",\"76158.00\",\"82.00\",\"108.00\"]])"
   ]
  },
  {
   "cell_type": "markdown",
   "metadata": {},
   "source": [
    "# Conclusion Remarks\n",
    "In this notebook, a predictive model is built with using Regression Decision Tree. \n",
    "This notebook will be updated with other algorithms."
   ]
  },
  {
   "cell_type": "code",
   "execution_count": 57,
   "metadata": {},
   "outputs": [],
   "source": [
    "predTree = regressor.predict(X_test)"
   ]
  },
  {
   "cell_type": "code",
   "execution_count": 58,
   "metadata": {},
   "outputs": [
    {
     "name": "stdout",
     "output_type": "stream",
     "text": [
      "[0. 0. 0. 0. 0.]\n"
     ]
    }
   ],
   "source": [
    "print (predTree [0:5])"
   ]
  },
  {
   "cell_type": "code",
   "execution_count": 59,
   "metadata": {},
   "outputs": [
    {
     "name": "stdout",
     "output_type": "stream",
     "text": [
      "38413    0.0\n",
      "60152    0.0\n",
      "21762    0.0\n",
      "39288    0.0\n",
      "51034    0.0\n",
      "Name: complaint_amount, dtype: float64\n"
     ]
    }
   ],
   "source": [
    "print (y_test [0:5])"
   ]
  },
  {
   "cell_type": "code",
   "execution_count": 63,
   "metadata": {},
   "outputs": [],
   "source": [
    "x_grid = np.arange(0, len(predTree), 1)"
   ]
  },
  {
   "cell_type": "code",
   "execution_count": 64,
   "metadata": {},
   "outputs": [
    {
     "data": {
      "text/plain": [
       "<matplotlib.collections.PathCollection at 0x24fd6893f28>"
      ]
     },
     "execution_count": 64,
     "metadata": {},
     "output_type": "execute_result"
    },
    {
     "data": {
      "image/png": "[encoded data removed]",
      "text/plain": [
       "<Figure size 432x288 with 1 Axes>"
      ]
     },
     "metadata": {},
     "output_type": "display_data"
    }
   ],
   "source": [
    "plt.scatter(x_grid, predTree, color = \"blue\")"
   ]
  },
  {
   "cell_type": "code",
   "execution_count": 65,
   "metadata": {},
   "outputs": [
    {
     "data": {
      "text/plain": [
       "[<matplotlib.lines.Line2D at 0x24fd6bee2e8>]"
      ]
     },
     "execution_count": 65,
     "metadata": {},
     "output_type": "execute_result"
    },
    {
     "data": {
      "image/png": "[encoded data removed]",
      "text/plain": [
       "<Figure size 432x288 with 1 Axes>"
      ]
     },
     "metadata": {},
     "output_type": "display_data"
    }
   ],
   "source": [
    "plt.plot(x_grid, regressor.predict(X_test))"
   ]
  },
  {
   "cell_type": "code",
   "execution_count": 66,
   "metadata": {},
   "outputs": [],
   "source": [
    "y_grid = np.arange(len(y_test), 1)"
   ]
  },
  {
   "cell_type": "code",
   "execution_count": 68,
   "metadata": {},
   "outputs": [
    {
     "data": {
      "text/plain": [
       "[<matplotlib.lines.Line2D at 0x24fd6cf1cf8>]"
      ]
     },
     "execution_count": 68,
     "metadata": {},
     "output_type": "execute_result"
    },
    {
     "data": {
      "image/png": "[encoded data removed]",
      "text/plain": [
       "<Figure size 432x288 with 1 Axes>"
      ]
     },
     "metadata": {},
     "output_type": "display_data"
    }
   ],
   "source": [
    "plt.plot(x_grid, y_test)"
   ]
  },
  {
   "cell_type": "code",
   "execution_count": 72,
   "metadata": {},
   "outputs": [
    {
     "data": {
      "image/png": "[encoded data removed]",
      "text/plain": [
       "<Figure size 432x288 with 1 Axes>"
      ]
     },
     "metadata": {},
     "output_type": "display_data"
    }
   ],
   "source": [
    "fig = plt.figure()\n",
    "ax1 = fig.add_subplot(111)\n",
    "\n",
    "ax1.scatter(x_grid, predTree, c='b', marker=\"s\", label='predictions')\n",
    "ax1.scatter(x_grid, y_test, c='r', marker=\"o\", alpha=0.8, label='actual values')\n",
    "plt.legend(loc='upper left');\n",
    "plt.show()"
   ]
  },
  {
   "cell_type": "markdown",
   "metadata": {},
   "source": [
    "Outliers are problem because there's a lot of houses with small complaint amount. \n",
    "This model is good with approx. results with little number of complaints. \n",
    "Note to self: Remove outlier and build the model again."
   ]
  },
  {
   "cell_type": "code",
   "execution_count": null,
   "metadata": {},
   "outputs": [],
   "source": []
  }
 ],
 "metadata": {
  "kernelspec": {
   "display_name": "Python 3",
   "language": "python",
   "name": "python3"
  },
  "language_info": {
   "codemirror_mode": {
    "name": "ipython",
    "version": 3
   },
   "file_extension": ".py",
   "mimetype": "text/x-python",
   "name": "python",
   "nbconvert_exporter": "python",
   "pygments_lexer": "ipython3",
   "version": "3.6.5"
  }
 },
 "nbformat": 4,
 "nbformat_minor": 2
}
