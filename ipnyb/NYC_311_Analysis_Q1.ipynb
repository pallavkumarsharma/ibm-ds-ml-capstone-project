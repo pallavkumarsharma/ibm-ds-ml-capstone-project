{
 "cells": [
  {
   "cell_type": "code",
   "execution_count": 1,
   "metadata": {},
   "outputs": [
    {
     "data": {
      "text/html": [
       "<div>\n",
       "<style scoped>\n",
       "    .dataframe tbody tr th:only-of-type {\n",
       "        vertical-align: middle;\n",
       "    }\n",
       "\n",
       "    .dataframe tbody tr th {\n",
       "        vertical-align: top;\n",
       "    }\n",
       "\n",
       "    .dataframe thead th {\n",
       "        text-align: right;\n",
       "    }\n",
       "</style>\n",
       "<table border=\"1\" class=\"dataframe\">\n",
       "  <thead>\n",
       "    <tr style=\"text-align: right;\">\n",
       "      <th></th>\n",
       "      <th>borough</th>\n",
       "      <th>closed_date</th>\n",
       "      <th>complaint_type</th>\n",
       "      <th>created_date</th>\n",
       "      <th>incident_address</th>\n",
       "      <th>incident_zip</th>\n",
       "      <th>latitude</th>\n",
       "      <th>longitude</th>\n",
       "      <th>street_name</th>\n",
       "      <th>status</th>\n",
       "    </tr>\n",
       "  </thead>\n",
       "  <tbody>\n",
       "    <tr>\n",
       "      <th>0</th>\n",
       "      <td>BROOKLYN</td>\n",
       "      <td>2015-11-23T10:29:49.000</td>\n",
       "      <td>DOOR/WINDOW</td>\n",
       "      <td>2015-11-07T10:16:55.000</td>\n",
       "      <td>397 1 STREET</td>\n",
       "      <td>11215.0</td>\n",
       "      <td>40.672571</td>\n",
       "      <td>-73.979307</td>\n",
       "      <td>1 STREET</td>\n",
       "      <td>Closed</td>\n",
       "    </tr>\n",
       "    <tr>\n",
       "      <th>1</th>\n",
       "      <td>MANHATTAN</td>\n",
       "      <td>2016-01-31T11:50:51.000</td>\n",
       "      <td>DOOR/WINDOW</td>\n",
       "      <td>2015-11-07T18:50:53.000</td>\n",
       "      <td>3851 BROADWAY</td>\n",
       "      <td>10032.0</td>\n",
       "      <td>40.836272</td>\n",
       "      <td>-73.943274</td>\n",
       "      <td>BROADWAY</td>\n",
       "      <td>Closed</td>\n",
       "    </tr>\n",
       "    <tr>\n",
       "      <th>2</th>\n",
       "      <td>MANHATTAN</td>\n",
       "      <td>2015-11-20T09:11:31.000</td>\n",
       "      <td>DOOR/WINDOW</td>\n",
       "      <td>2015-11-07T23:09:57.000</td>\n",
       "      <td>3851 BROADWAY</td>\n",
       "      <td>10032.0</td>\n",
       "      <td>40.836272</td>\n",
       "      <td>-73.943274</td>\n",
       "      <td>BROADWAY</td>\n",
       "      <td>Closed</td>\n",
       "    </tr>\n",
       "    <tr>\n",
       "      <th>3</th>\n",
       "      <td>BROOKLYN</td>\n",
       "      <td>2015-11-16T12:25:46.000</td>\n",
       "      <td>DOOR/WINDOW</td>\n",
       "      <td>2015-11-07T14:05:52.000</td>\n",
       "      <td>1555 NOSTRAND AVENUE</td>\n",
       "      <td>11226.0</td>\n",
       "      <td>40.648298</td>\n",
       "      <td>-73.949293</td>\n",
       "      <td>NOSTRAND AVENUE</td>\n",
       "      <td>Closed</td>\n",
       "    </tr>\n",
       "    <tr>\n",
       "      <th>4</th>\n",
       "      <td>BRONX</td>\n",
       "      <td>2015-12-03T09:38:12.000</td>\n",
       "      <td>DOOR/WINDOW</td>\n",
       "      <td>2015-11-06T13:02:50.000</td>\n",
       "      <td>1808 MULFORD AVENUE</td>\n",
       "      <td>10461.0</td>\n",
       "      <td>40.847490</td>\n",
       "      <td>-73.835112</td>\n",
       "      <td>MULFORD AVENUE</td>\n",
       "      <td>Closed</td>\n",
       "    </tr>\n",
       "  </tbody>\n",
       "</table>\n",
       "</div>"
      ],
      "text/plain": [
       "     borough              closed_date complaint_type             created_date  \\\n",
       "0   BROOKLYN  2015-11-23T10:29:49.000    DOOR/WINDOW  2015-11-07T10:16:55.000   \n",
       "1  MANHATTAN  2016-01-31T11:50:51.000    DOOR/WINDOW  2015-11-07T18:50:53.000   \n",
       "2  MANHATTAN  2015-11-20T09:11:31.000    DOOR/WINDOW  2015-11-07T23:09:57.000   \n",
       "3   BROOKLYN  2015-11-16T12:25:46.000    DOOR/WINDOW  2015-11-07T14:05:52.000   \n",
       "4      BRONX  2015-12-03T09:38:12.000    DOOR/WINDOW  2015-11-06T13:02:50.000   \n",
       "\n",
       "       incident_address  incident_zip   latitude  longitude      street_name  \\\n",
       "0          397 1 STREET       11215.0  40.672571 -73.979307         1 STREET   \n",
       "1         3851 BROADWAY       10032.0  40.836272 -73.943274         BROADWAY   \n",
       "2         3851 BROADWAY       10032.0  40.836272 -73.943274         BROADWAY   \n",
       "3  1555 NOSTRAND AVENUE       11226.0  40.648298 -73.949293  NOSTRAND AVENUE   \n",
       "4   1808 MULFORD AVENUE       10461.0  40.847490 -73.835112   MULFORD AVENUE   \n",
       "\n",
       "   status  \n",
       "0  Closed  \n",
       "1  Closed  \n",
       "2  Closed  \n",
       "3  Closed  \n",
       "4  Closed  "
      ]
     },
     "execution_count": 1,
     "metadata": {},
     "output_type": "execute_result"
    }
   ],
   "source": [
    "import pandas as pd\n",
    "\n",
    "#lacal path of data from my computer\n",
    "body = r\"C:\\Users\\Suat\\Documents\\Programming\\Data Science Project\\data.csv\"\n",
    "\n",
    "df = pd.read_csv(body)\n",
    "df.head()\n",
    "\n"
   ]
  },
  {
   "cell_type": "markdown",
   "metadata": {},
   "source": [
    "## '''Question 1: Which type of complaint should the Department of Housing Preservation and Development of New York City focus on first?'''"
   ]
  },
  {
   "cell_type": "markdown",
   "metadata": {},
   "source": [
    "'''Notes on Problem 1: In the first question, we should look the 311 data set. 311 service is for New York\n",
    "citizens where citizens can report non-emergency requests from the city.\n",
    "Important note: The actual dataset is much bigger than this one and can be downloaded from the link I've provided in README file, however I selected the columns that I am going to use. I didn't choose the all recommended columns because of size issues.\n",
    "The dataset is in data.csv file and transferred here as df, using pandas.\n",
    "For answering question 1, we should find the column that contains complaint type information and find the \n",
    "complaint type that has occured most.'''"
   ]
  },
  {
   "cell_type": "markdown",
   "metadata": {},
   "source": [
    "First, lets look at the dataset"
   ]
  },
  {
   "cell_type": "code",
   "execution_count": 2,
   "metadata": {},
   "outputs": [
    {
     "name": "stdout",
     "output_type": "stream",
     "text": [
      "<class 'pandas.core.frame.DataFrame'>\n",
      "RangeIndex: 5583182 entries, 0 to 5583181\n",
      "Data columns (total 10 columns):\n",
      "borough             object\n",
      "closed_date         object\n",
      "complaint_type      object\n",
      "created_date        object\n",
      "incident_address    object\n",
      "incident_zip        float64\n",
      "latitude            float64\n",
      "longitude           float64\n",
      "street_name         object\n",
      "status              object\n",
      "dtypes: float64(3), object(7)\n",
      "memory usage: 426.0+ MB\n"
     ]
    }
   ],
   "source": [
    "df.info()"
   ]
  },
  {
   "cell_type": "markdown",
   "metadata": {},
   "source": [
    "As we can see, there are 10 columns and complaint_type column is over there for our problem."
   ]
  },
  {
   "cell_type": "code",
   "execution_count": 3,
   "metadata": {},
   "outputs": [],
   "source": [
    "##Let's look complaint types more detailly"
   ]
  },
  {
   "cell_type": "code",
   "execution_count": 4,
   "metadata": {},
   "outputs": [
    {
     "data": {
      "text/plain": [
       "array(['DOOR/WINDOW', 'SAFETY', 'HEAT/HOT WATER', 'PLUMBING', 'APPLIANCE',\n",
       "       'UNSANITARY CONDITION', 'WATER LEAK', 'ELECTRIC',\n",
       "       'FLOORING/STAIRS', 'ELEVATOR', 'GENERAL', 'PAINT/PLASTER',\n",
       "       'OUTSIDE BUILDING', 'HPD Literature Request', 'AGENCY', 'HEATING',\n",
       "       'NONCONST', 'GENERAL CONSTRUCTION', 'PAINT - PLASTER',\n",
       "       'CONSTRUCTION', 'STRUCTURAL', 'VACANT APARTMENT'], dtype=object)"
      ]
     },
     "execution_count": 4,
     "metadata": {},
     "output_type": "execute_result"
    }
   ],
   "source": [
    "df[\"complaint_type\"].unique()"
   ]
  },
  {
   "cell_type": "markdown",
   "metadata": {},
   "source": [
    "Now we know what kind of complaints in the column, it's a good quick look."
   ]
  },
  {
   "cell_type": "code",
   "execution_count": 5,
   "metadata": {},
   "outputs": [
    {
     "data": {
      "text/plain": [
       "0"
      ]
     },
     "execution_count": 5,
     "metadata": {},
     "output_type": "execute_result"
    }
   ],
   "source": [
    "##Even if we can see that there is no NaN values from the unique array, let's double check.\n",
    "df[\"complaint_type\"].isnull().sum()"
   ]
  },
  {
   "cell_type": "code",
   "execution_count": 6,
   "metadata": {},
   "outputs": [
    {
     "data": {
      "text/plain": [
       "HEAT/HOT WATER            1073045\n",
       "HEATING                    887869\n",
       "PLUMBING                   676178\n",
       "GENERAL CONSTRUCTION       500863\n",
       "UNSANITARY CONDITION       393855\n",
       "PAINT - PLASTER            361258\n",
       "PAINT/PLASTER              313754\n",
       "ELECTRIC                   290574\n",
       "NONCONST                   260890\n",
       "DOOR/WINDOW                181400\n",
       "WATER LEAK                 169553\n",
       "GENERAL                    133106\n",
       "FLOORING/STAIRS            123799\n",
       "APPLIANCE                  102478\n",
       "HPD Literature Request      52738\n",
       "SAFETY                      44550\n",
       "OUTSIDE BUILDING             6551\n",
       "ELEVATOR                     5610\n",
       "CONSTRUCTION                 5078\n",
       "STRUCTURAL                     16\n",
       "AGENCY                          9\n",
       "VACANT APARTMENT                8\n",
       "Name: complaint_type, dtype: int64"
      ]
     },
     "execution_count": 6,
     "metadata": {},
     "output_type": "execute_result"
    }
   ],
   "source": [
    "##Let's find out the amount of each complaints.\n",
    "df[\"complaint_type\"].value_counts()"
   ]
  },
  {
   "cell_type": "markdown",
   "metadata": {},
   "source": [
    "It is clear that the Heat/Hot Water problem is the one that NYC should focus on first! However, it's tricky. You may notice that there is big similarity between two groups. HEAT/HOT WATER and HEATING. Before 2014, this dataset is using HEATING label but after 2014, the label changed as \"HEATING/HOT WATER\". So, we need to change \"HEATING\" labels as \"HEATING/HOT WATER\" and analyze them together."
   ]
  },
  {
   "cell_type": "code",
   "execution_count": 7,
   "metadata": {},
   "outputs": [],
   "source": [
    "import numpy as np\n",
    "df['complaint_type'] = np.where(df['complaint_type']=='HEATING','HEAT/HOT WATER',df['complaint_type'])"
   ]
  },
  {
   "cell_type": "code",
   "execution_count": 8,
   "metadata": {},
   "outputs": [
    {
     "data": {
      "text/plain": [
       "HEAT/HOT WATER          1960914\n",
       "PLUMBING                 676178\n",
       "GENERAL CONSTRUCTION     500863\n",
       "UNSANITARY CONDITION     393855\n",
       "PAINT - PLASTER          361258\n",
       "Name: complaint_type, dtype: int64"
      ]
     },
     "execution_count": 8,
     "metadata": {},
     "output_type": "execute_result"
    }
   ],
   "source": [
    "#Let's check again\n",
    "df[\"complaint_type\"].value_counts().head()"
   ]
  },
  {
   "cell_type": "code",
   "execution_count": 9,
   "metadata": {},
   "outputs": [],
   "source": [
    "#Let's look at the complaint types in a bar graph\n",
    "#First, import the matplotlib library\n",
    "import matplotlib.pyplot as plt"
   ]
  },
  {
   "cell_type": "code",
   "execution_count": 10,
   "metadata": {},
   "outputs": [
    {
     "data": {
      "image/png": "[encoded data removed]",
      "text/plain": [
       "<Figure size 720x432 with 1 Axes>"
      ]
     },
     "metadata": {},
     "output_type": "display_data"
    }
   ],
   "source": [
    "df[\"complaint_type\"].value_counts().plot(kind='bar', figsize=(10, 6))\n",
    "#\n",
    "plt.xlabel('Complaint_Type') # add to x-label to the plot\n",
    "plt.ylabel('Number occurance') # add y-label to the plot\n",
    "plt.title('Complaint Type Graph') # add title to the plot\n",
    "#\n",
    "plt.show()"
   ]
  },
  {
   "cell_type": "markdown",
   "metadata": {},
   "source": [
    "For Additional Insight, Let's look at how many Heat/Hot Water Problem has occured every year."
   ]
  },
  {
   "cell_type": "markdown",
   "metadata": {},
   "source": [
    "For looking at yearly counts, first we need a time column. If we look at the column names, \n",
    "we can see there is a column named created_date"
   ]
  },
  {
   "cell_type": "code",
   "execution_count": 11,
   "metadata": {},
   "outputs": [
    {
     "data": {
      "text/plain": [
       "0    2015-11-07T10:16:55.000\n",
       "1    2015-11-07T18:50:53.000\n",
       "2    2015-11-07T23:09:57.000\n",
       "3    2015-11-07T14:05:52.000\n",
       "4    2015-11-06T13:02:50.000\n",
       "Name: created_date, dtype: object"
      ]
     },
     "execution_count": 11,
     "metadata": {},
     "output_type": "execute_result"
    }
   ],
   "source": [
    "#Let's look at created date column\n",
    "df[\"created_date\"].head()"
   ]
  },
  {
   "cell_type": "markdown",
   "metadata": {},
   "source": [
    "it is note a datetime type column. Basically it contains dates as strings."
   ]
  },
  {
   "cell_type": "code",
   "execution_count": 12,
   "metadata": {},
   "outputs": [],
   "source": [
    "#Before changing created_date column to a datetime object, first, let's create a dataframe onlt contains\n",
    "# HEAT/HOT WATER problems.\n",
    "complaint_df = df[df.complaint_type == \"HEAT/HOT WATER\"]"
   ]
  },
  {
   "cell_type": "code",
   "execution_count": 13,
   "metadata": {},
   "outputs": [
    {
     "name": "stdout",
     "output_type": "stream",
     "text": [
      "<class 'pandas.core.frame.DataFrame'>\n",
      "Int64Index: 1960914 entries, 13 to 5583180\n",
      "Data columns (total 10 columns):\n",
      "borough             object\n",
      "closed_date         object\n",
      "complaint_type      object\n",
      "created_date        object\n",
      "incident_address    object\n",
      "incident_zip        float64\n",
      "latitude            float64\n",
      "longitude           float64\n",
      "street_name         object\n",
      "status              object\n",
      "dtypes: float64(3), object(7)\n",
      "memory usage: 164.6+ MB\n"
     ]
    }
   ],
   "source": [
    "#complaint_df has only HEAT/HOT WATER problems, how can we check? We know from the first analyze that \n",
    "#HEAT/HOT WATER problem has 1960914 occurence, so if we look at complaint_df size, we can clearly see that\n",
    "#there are 1960914 entries\n",
    "complaint_df.info()"
   ]
  },
  {
   "cell_type": "code",
   "execution_count": 14,
   "metadata": {},
   "outputs": [
    {
     "data": {
      "text/html": [
       "<div>\n",
       "<style scoped>\n",
       "    .dataframe tbody tr th:only-of-type {\n",
       "        vertical-align: middle;\n",
       "    }\n",
       "\n",
       "    .dataframe tbody tr th {\n",
       "        vertical-align: top;\n",
       "    }\n",
       "\n",
       "    .dataframe thead th {\n",
       "        text-align: right;\n",
       "    }\n",
       "</style>\n",
       "<table border=\"1\" class=\"dataframe\">\n",
       "  <thead>\n",
       "    <tr style=\"text-align: right;\">\n",
       "      <th></th>\n",
       "      <th>complaint_type</th>\n",
       "      <th>created_date</th>\n",
       "    </tr>\n",
       "  </thead>\n",
       "  <tbody>\n",
       "    <tr>\n",
       "      <th>13</th>\n",
       "      <td>HEAT/HOT WATER</td>\n",
       "      <td>2015-11-06T07:06:37.000</td>\n",
       "    </tr>\n",
       "    <tr>\n",
       "      <th>14</th>\n",
       "      <td>HEAT/HOT WATER</td>\n",
       "      <td>2015-11-06T06:43:48.000</td>\n",
       "    </tr>\n",
       "    <tr>\n",
       "      <th>165</th>\n",
       "      <td>HEAT/HOT WATER</td>\n",
       "      <td>2015-11-07T15:41:28.000</td>\n",
       "    </tr>\n",
       "    <tr>\n",
       "      <th>169</th>\n",
       "      <td>HEAT/HOT WATER</td>\n",
       "      <td>2015-11-06T17:57:24.000</td>\n",
       "    </tr>\n",
       "    <tr>\n",
       "      <th>170</th>\n",
       "      <td>HEAT/HOT WATER</td>\n",
       "      <td>2015-11-06T11:46:20.000</td>\n",
       "    </tr>\n",
       "  </tbody>\n",
       "</table>\n",
       "</div>"
      ],
      "text/plain": [
       "     complaint_type             created_date\n",
       "13   HEAT/HOT WATER  2015-11-06T07:06:37.000\n",
       "14   HEAT/HOT WATER  2015-11-06T06:43:48.000\n",
       "165  HEAT/HOT WATER  2015-11-07T15:41:28.000\n",
       "169  HEAT/HOT WATER  2015-11-06T17:57:24.000\n",
       "170  HEAT/HOT WATER  2015-11-06T11:46:20.000"
      ]
     },
     "execution_count": 14,
     "metadata": {},
     "output_type": "execute_result"
    }
   ],
   "source": [
    "#Now, let's make even more small and useful dataset for our analysis (this is optional, you can use complaint_df)\n",
    "heat_year_sum_df = complaint_df[[\"complaint_type\", \"created_date\"]]\n",
    "heat_year_sum_df.head()"
   ]
  },
  {
   "cell_type": "code",
   "execution_count": 15,
   "metadata": {},
   "outputs": [
    {
     "name": "stderr",
     "output_type": "stream",
     "text": [
      "C:\\Users\\Suat\\Anaconda3\\lib\\site-packages\\ipykernel_launcher.py:3: SettingWithCopyWarning: \n",
      "A value is trying to be set on a copy of a slice from a DataFrame.\n",
      "Try using .loc[row_indexer,col_indexer] = value instead\n",
      "\n",
      "See the caveats in the documentation: http://pandas.pydata.org/pandas-docs/stable/indexing.html#indexing-view-versus-copy\n",
      "  This is separate from the ipykernel package so we can avoid doing imports until\n"
     ]
    }
   ],
   "source": [
    "#Now we have every HEAT/HOT WATER problem and it's created date. Let's change created_date column into datetime\n",
    "#object\n",
    "heat_year_sum_df[\"created_date\"] = pd.to_datetime(heat_year_sum_df.created_date)"
   ]
  },
  {
   "cell_type": "code",
   "execution_count": 16,
   "metadata": {},
   "outputs": [
    {
     "name": "stdout",
     "output_type": "stream",
     "text": [
      "<class 'pandas.core.frame.DataFrame'>\n",
      "Int64Index: 1960914 entries, 13 to 5583180\n",
      "Data columns (total 2 columns):\n",
      "complaint_type    object\n",
      "created_date      datetime64[ns]\n",
      "dtypes: datetime64[ns](1), object(1)\n",
      "memory usage: 44.9+ MB\n"
     ]
    }
   ],
   "source": [
    "#ignore the warinig, we made it!\n",
    "heat_year_sum_df.info()"
   ]
  },
  {
   "cell_type": "code",
   "execution_count": 17,
   "metadata": {},
   "outputs": [
    {
     "data": {
      "text/plain": [
       "13    2015-11-06 07:06:37\n",
       "14    2015-11-06 06:43:48\n",
       "165   2015-11-07 15:41:28\n",
       "169   2015-11-06 17:57:24\n",
       "170   2015-11-06 11:46:20\n",
       "Name: created_date, dtype: datetime64[ns]"
      ]
     },
     "execution_count": 17,
     "metadata": {},
     "output_type": "execute_result"
    }
   ],
   "source": [
    "#let's look at new format\n",
    "heat_year_sum_df[\"created_date\"].head()"
   ]
  },
  {
   "cell_type": "code",
   "execution_count": 18,
   "metadata": {},
   "outputs": [],
   "source": [
    "#now we group the incidents by every year\n",
    "grp = heat_year_sum_df.groupby(heat_year_sum_df.created_date.dt.year)"
   ]
  },
  {
   "cell_type": "code",
   "execution_count": 19,
   "metadata": {},
   "outputs": [
    {
     "data": {
      "text/html": [
       "<div>\n",
       "<style scoped>\n",
       "    .dataframe tbody tr th:only-of-type {\n",
       "        vertical-align: middle;\n",
       "    }\n",
       "\n",
       "    .dataframe tbody tr th {\n",
       "        vertical-align: top;\n",
       "    }\n",
       "\n",
       "    .dataframe thead th {\n",
       "        text-align: right;\n",
       "    }\n",
       "</style>\n",
       "<table border=\"1\" class=\"dataframe\">\n",
       "  <thead>\n",
       "    <tr style=\"text-align: right;\">\n",
       "      <th></th>\n",
       "      <th>complaint_type</th>\n",
       "      <th>created_date</th>\n",
       "    </tr>\n",
       "    <tr>\n",
       "      <th>created_date</th>\n",
       "      <th></th>\n",
       "      <th></th>\n",
       "    </tr>\n",
       "  </thead>\n",
       "  <tbody>\n",
       "    <tr>\n",
       "      <th>2010</th>\n",
       "      <td>214218</td>\n",
       "      <td>214218</td>\n",
       "    </tr>\n",
       "    <tr>\n",
       "      <th>2011</th>\n",
       "      <td>190184</td>\n",
       "      <td>190184</td>\n",
       "    </tr>\n",
       "    <tr>\n",
       "      <th>2012</th>\n",
       "      <td>182974</td>\n",
       "      <td>182974</td>\n",
       "    </tr>\n",
       "    <tr>\n",
       "      <th>2013</th>\n",
       "      <td>202896</td>\n",
       "      <td>202896</td>\n",
       "    </tr>\n",
       "    <tr>\n",
       "      <th>2014</th>\n",
       "      <td>230364</td>\n",
       "      <td>230364</td>\n",
       "    </tr>\n",
       "    <tr>\n",
       "      <th>2015</th>\n",
       "      <td>225706</td>\n",
       "      <td>225706</td>\n",
       "    </tr>\n",
       "    <tr>\n",
       "      <th>2016</th>\n",
       "      <td>227959</td>\n",
       "      <td>227959</td>\n",
       "    </tr>\n",
       "    <tr>\n",
       "      <th>2017</th>\n",
       "      <td>213521</td>\n",
       "      <td>213521</td>\n",
       "    </tr>\n",
       "    <tr>\n",
       "      <th>2018</th>\n",
       "      <td>223835</td>\n",
       "      <td>223835</td>\n",
       "    </tr>\n",
       "    <tr>\n",
       "      <th>2019</th>\n",
       "      <td>49257</td>\n",
       "      <td>49257</td>\n",
       "    </tr>\n",
       "  </tbody>\n",
       "</table>\n",
       "</div>"
      ],
      "text/plain": [
       "              complaint_type  created_date\n",
       "created_date                              \n",
       "2010                  214218        214218\n",
       "2011                  190184        190184\n",
       "2012                  182974        182974\n",
       "2013                  202896        202896\n",
       "2014                  230364        230364\n",
       "2015                  225706        225706\n",
       "2016                  227959        227959\n",
       "2017                  213521        213521\n",
       "2018                  223835        223835\n",
       "2019                   49257         49257"
      ]
     },
     "execution_count": 19,
     "metadata": {},
     "output_type": "execute_result"
    }
   ],
   "source": [
    "#want to see the results?\n",
    "grp.count()"
   ]
  },
  {
   "cell_type": "code",
   "execution_count": 20,
   "metadata": {},
   "outputs": [
    {
     "data": {
      "text/html": [
       "<div>\n",
       "<style scoped>\n",
       "    .dataframe tbody tr th:only-of-type {\n",
       "        vertical-align: middle;\n",
       "    }\n",
       "\n",
       "    .dataframe tbody tr th {\n",
       "        vertical-align: top;\n",
       "    }\n",
       "\n",
       "    .dataframe thead th {\n",
       "        text-align: right;\n",
       "    }\n",
       "</style>\n",
       "<table border=\"1\" class=\"dataframe\">\n",
       "  <thead>\n",
       "    <tr style=\"text-align: right;\">\n",
       "      <th></th>\n",
       "      <th>complaint_type</th>\n",
       "      <th>created_date</th>\n",
       "    </tr>\n",
       "    <tr>\n",
       "      <th>created_date</th>\n",
       "      <th></th>\n",
       "      <th></th>\n",
       "    </tr>\n",
       "  </thead>\n",
       "  <tbody>\n",
       "    <tr>\n",
       "      <th>2010</th>\n",
       "      <td>214218</td>\n",
       "      <td>214218</td>\n",
       "    </tr>\n",
       "    <tr>\n",
       "      <th>2011</th>\n",
       "      <td>190184</td>\n",
       "      <td>190184</td>\n",
       "    </tr>\n",
       "    <tr>\n",
       "      <th>2012</th>\n",
       "      <td>182974</td>\n",
       "      <td>182974</td>\n",
       "    </tr>\n",
       "    <tr>\n",
       "      <th>2013</th>\n",
       "      <td>202896</td>\n",
       "      <td>202896</td>\n",
       "    </tr>\n",
       "    <tr>\n",
       "      <th>2014</th>\n",
       "      <td>230364</td>\n",
       "      <td>230364</td>\n",
       "    </tr>\n",
       "    <tr>\n",
       "      <th>2015</th>\n",
       "      <td>225706</td>\n",
       "      <td>225706</td>\n",
       "    </tr>\n",
       "    <tr>\n",
       "      <th>2016</th>\n",
       "      <td>227959</td>\n",
       "      <td>227959</td>\n",
       "    </tr>\n",
       "    <tr>\n",
       "      <th>2017</th>\n",
       "      <td>213521</td>\n",
       "      <td>213521</td>\n",
       "    </tr>\n",
       "    <tr>\n",
       "      <th>2018</th>\n",
       "      <td>223835</td>\n",
       "      <td>223835</td>\n",
       "    </tr>\n",
       "    <tr>\n",
       "      <th>2019</th>\n",
       "      <td>49257</td>\n",
       "      <td>49257</td>\n",
       "    </tr>\n",
       "  </tbody>\n",
       "</table>\n",
       "</div>"
      ],
      "text/plain": [
       "              complaint_type  created_date\n",
       "created_date                              \n",
       "2010                  214218        214218\n",
       "2011                  190184        190184\n",
       "2012                  182974        182974\n",
       "2013                  202896        202896\n",
       "2014                  230364        230364\n",
       "2015                  225706        225706\n",
       "2016                  227959        227959\n",
       "2017                  213521        213521\n",
       "2018                  223835        223835\n",
       "2019                   49257         49257"
      ]
     },
     "execution_count": 20,
     "metadata": {},
     "output_type": "execute_result"
    }
   ],
   "source": [
    "#let's make it a new data frame out of this and try to see visually\n",
    "pd.DataFrame = grp.count()\n",
    "grp_df = pd.DataFrame\n",
    "grp_df"
   ]
  },
  {
   "cell_type": "code",
   "execution_count": 21,
   "metadata": {},
   "outputs": [
    {
     "data": {
      "image/png": "[encoded data removed]",
      "text/plain": [
       "<Figure size 432x288 with 1 Axes>"
      ]
     },
     "metadata": {},
     "output_type": "display_data"
    }
   ],
   "source": [
    "plt.bar(grp_df.index, grp_df[\"complaint_type\"])\n",
    "plt.xticks(grp_df.index.values)\n",
    "plt.ylabel('Number occurrence')\n",
    "plt.title('Yearly Occurrence')\n",
    " \n",
    "plt.show()"
   ]
  },
  {
   "cell_type": "markdown",
   "metadata": {},
   "source": [
    "## CONCLUDING REMARKS: Department of Housing Preservation and Development of New York City should address HEAT/HOT WATER problem first. There are 1960914 HEAT/HOT WATER incidents total.\n"
   ]
  },
  {
   "cell_type": "code",
   "execution_count": null,
   "metadata": {},
   "outputs": [],
   "source": []
  }
 ],
 "metadata": {
  "kernelspec": {
   "display_name": "Python 3",
   "language": "python",
   "name": "python3"
  },
  "language_info": {
   "codemirror_mode": {
    "name": "ipython",
    "version": 3
   },
   "file_extension": ".py",
   "mimetype": "text/x-python",
   "name": "python",
   "nbconvert_exporter": "python",
   "pygments_lexer": "ipython3",
   "version": "3.6.5"
  }
 },
 "nbformat": 4,
 "nbformat_minor": 2
}
